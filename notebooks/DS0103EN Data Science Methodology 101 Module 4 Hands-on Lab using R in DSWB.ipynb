{
 "cells": [
  {
   "cell_type": "markdown",
   "metadata": {},
   "source": [
    "### Run this to get the data now"
   ]
  },
  {
   "cell_type": "code",
   "execution_count": 1,
   "metadata": {
    "collapsed": false
   },
   "outputs": [
    {
     "name": "stdout",
     "output_type": "stream",
     "text": [
      "[1] \"Done\"\n"
     ]
    }
   ],
   "source": [
    "#Click here and press Shift+Enter\n",
    "download.file(\"https://ibm.box.com/shared/static/5wah9atr5o1akuuavl2z9tkjzdinr1lv.csv\",\n",
    "              destfile = \"/resources/data/recipes.csv\", quiet = TRUE)\n",
    "\n",
    "## Install libraries if not installed\n",
    "if(\"rpart\" %in% rownames(installed.packages()) == FALSE) {install.packages(\"rpart\", \n",
    "    repo = \"http://mirror.las.iastate.edu/CRAN/\")}\n",
    "if(\"rpart.plot\" %in% rownames(installed.packages()) == FALSE) {install.packages(\"rpart.plot\", \n",
    "    repo = \"http://mirror.las.iastate.edu/CRAN/\")}\n",
    "\n",
    "print(\"Done\") #Takes about 30 seconds"
   ]
  },
  {
   "cell_type": "markdown",
   "metadata": {},
   "source": [
    "<hr>"
   ]
  },
  {
   "cell_type": "markdown",
   "metadata": {},
   "source": [
    "<a href=\"https://www.bigdatauniversity.com\"><img src = \"https://ibm.box.com/shared/static/wbqvbi6o6ip0vz55ua5gp17g4f1k7ve9.png\" width = 400> </a>\n",
    "\n",
    "\n",
    "<h1 align=center> Data Science Methodology</h1>\n",
    "<h1 align=center> With Decision Trees and Clustering</h1>\n",
    "<h4 align=center><a href = \"https://ca.linkedin.com/in/polonglin\">Polong Lin</a></h4>\n"
   ]
  },
  {
   "cell_type": "markdown",
   "metadata": {},
   "source": [
    "### Table of contents:\n",
    "\n",
    "1. Import `recipes.csv` into R.\n",
    "2. Model data using decision trees\n",
    "    - import the required libraries\n",
    "    - display the decision tree\n",
    "    - summarize the decision tree\n",
    "    - create refined decision trees\n",
    "3. Testing our model(s)\n",
    "4. Predict the cuisine of your own recipe, \"`my_recipe`\"\n",
    "\n",
    "<hr>"
   ]
  },
  {
   "cell_type": "markdown",
   "metadata": {},
   "source": [
    "### Using this notebook:\n",
    "\n",
    "**Shift + Enter** to run a cell:"
   ]
  },
  {
   "cell_type": "code",
   "execution_count": 2,
   "metadata": {
    "collapsed": false
   },
   "outputs": [
    {
     "data": {
      "text/plain": [
       "[1] \"R version 3.3.1 (2016-06-21)\""
      ]
     },
     "execution_count": 2,
     "metadata": {},
     "output_type": "execute_result"
    }
   ],
   "source": [
    "# Check R version\n",
    "R.Version()$version.string"
   ]
  },
  {
   "cell_type": "markdown",
   "metadata": {},
   "source": [
    "<hr>"
   ]
  },
  {
   "cell_type": "markdown",
   "metadata": {},
   "source": [
    "## 1. Import recipes.csv into R."
   ]
  },
  {
   "cell_type": "markdown",
   "metadata": {},
   "source": [
    "Run the cell below by clicking on it and pressing Shift + Enter"
   ]
  },
  {
   "cell_type": "code",
   "execution_count": 3,
   "metadata": {
    "collapsed": false
   },
   "outputs": [],
   "source": [
    "recipes <- read.csv(\"/resources/data/recipes.csv\") #takes 10 sec"
   ]
  },
  {
   "cell_type": "markdown",
   "metadata": {},
   "source": [
    "<hr>"
   ]
  },
  {
   "cell_type": "markdown",
   "metadata": {},
   "source": [
    "<img src = https://ibm.box.com/shared/static/jrv1mg8v3e7gm58go1ccn4u78pxhmb1l.png width = 600>"
   ]
  },
  {
   "cell_type": "markdown",
   "metadata": {},
   "source": [
    "## Cleaning the data:"
   ]
  },
  {
   "cell_type": "code",
   "execution_count": 40,
   "metadata": {
    "collapsed": false
   },
   "outputs": [
    {
     "data": {
      "text/plain": [
       "\n",
       "               american                 italian                 mexican \n",
       "                  40150                    3250                    2390 \n",
       "                 french                   asian              east_asian \n",
       "                   1264                    1193                     951 \n",
       "                 korean                  canada                  indian \n",
       "                    799                     774                     598 \n",
       "                western                 chinese       southern_soulfood \n",
       "                    450                     442                     346 \n",
       "                 jewish                japanese      spanish_portuguese \n",
       "                    329                     320                     291 \n",
       "                 german           mediterranean                    thai \n",
       "                    289                     289                     289 \n",
       "         uk-and-ireland            scandinavian           middleeastern \n",
       "                    282                     250                     248 \n",
       "  central_southamerican          eastern-europe                   greek \n",
       "                    241                     235                     225 \n",
       "       english_scottish               caribbean            cajun_creole \n",
       "                    204                     183                     146 \n",
       "easterneuropean_russian                moroccan                 african \n",
       "                    146                     137                     115 \n",
       "           southwestern           south-america              vietnamese \n",
       "                    108                     103                      95 \n",
       "                  irish                   spain           north-african \n",
       "                     86                      75                      60 \n",
       "               portugal \n",
       "                     50 "
      ]
     },
     "execution_count": 40,
     "metadata": {},
     "output_type": "execute_result"
    }
   ],
   "source": [
    "#Run this\n",
    "\n",
    "#Convert country names to lower case\n",
    "recipes$country <- tolower( as.character(recipes$country) ) \n",
    "\n",
    "#Make the country names consistent\n",
    "recipes$country[recipes$country == \"china\"] <- \"chinese\"\n",
    "recipes$country[recipes$country == \"france\"] <- \"french\"\n",
    "recipes$country[recipes$country == \"germany\"] <- \"german\"\n",
    "recipes$country[recipes$country == \"india\"] <- \"indian\"\n",
    "recipes$country[recipes$country == \"israel\"] <- \"jewish\"\n",
    "recipes$country[recipes$country == \"italy\"] <- \"italian\"\n",
    "recipes$country[recipes$country == \"japan\"] <- \"japanese\"\n",
    "recipes$country[recipes$country == \"korea\"] <- \"korean\"\n",
    "recipes$country[recipes$country == \"mexico\"] <- \"mexican\"\n",
    "recipes$country[recipes$country == \"scandinavia\"] <- \"scandinavian\"\n",
    "recipes$country[recipes$country == \"thailand\"] <- \"thai\"\n",
    "recipes$country[recipes$country == \"vietnam\"] <- \"vietnamese\"\n",
    "\n",
    "#Remove data for countries with <50 recipes:\n",
    "t <- sort(base::table(recipes$country), decreasing = T)\n",
    "filter_list <- names( t[ t >= 50 ] )\n",
    "recipes <- recipes[recipes$country %in% filter_list, ]\n",
    "recipes$country <- as.factor(as.character(recipes$country))\n",
    "sort(base::table(recipes$country), decreasing = T)\n",
    "\n",
    "#Convert all of the columns into factors (to run the classification model later)\n",
    "recipes[,names(recipes)] <- lapply(recipes[,names(recipes)] , as.factor)"
   ]
  },
  {
   "cell_type": "markdown",
   "metadata": {},
   "source": [
    "<hr>"
   ]
  },
  {
   "cell_type": "markdown",
   "metadata": {},
   "source": [
    "## 3. Model data using decision trees for prediction\n",
    "\n",
    "**Overall goal:**\n",
    "- to create a decision tree model that predicts the type of cuisine based on the ingredients\n",
    "\n",
    "<br>\n",
    "**Goals:**\n",
    "- install & import libraries relevant to decision trees\n",
    "- attempt to create a decision tree on all the recipes\n",
    "\n",
    "Install libraries (for decision trees):"
   ]
  },
  {
   "cell_type": "code",
   "execution_count": 41,
   "metadata": {
    "collapsed": false
   },
   "outputs": [],
   "source": [
    "# Run this\n",
    "\n",
    "## Install libraries if not installed\n",
    "if(\"rpart\" %in% rownames(installed.packages()) == FALSE) {install.packages(\"rpart\", \n",
    "    repo = \"http://mirror.las.iastate.edu/CRAN/\")}\n",
    "if(\"rpart.plot\" %in% rownames(installed.packages()) == FALSE) {install.packages(\"rpart.plot\", \n",
    "    repo = \"http://mirror.las.iastate.edu/CRAN/\")}\n",
    "\n",
    "\n",
    "## Load libraries\n",
    "library(rpart)\n",
    "library(rpart.plot)"
   ]
  },
  {
   "cell_type": "markdown",
   "metadata": {},
   "source": [
    "Check the data again!"
   ]
  },
  {
   "cell_type": "code",
   "execution_count": 42,
   "metadata": {
    "collapsed": false
   },
   "outputs": [
    {
     "data": {
      "text/plain": [
       "     country almond angelica anise anise_seed apple apple_brandy apricot\n",
       "1 vietnamese     No       No    No         No    No           No      No\n",
       "2 vietnamese     No       No    No         No    No           No      No\n",
       "3 vietnamese     No       No    No         No    No           No      No\n",
       "4 vietnamese     No       No    No         No    No           No      No\n",
       "5 vietnamese     No       No    No         No    No           No      No\n",
       "6 vietnamese     No       No    No         No    No           No      No\n",
       "  armagnac artemisia artichoke asparagus avocado bacon baked_potato balm banana\n",
       "1       No        No        No        No      No    No           No   No     No\n",
       "2       No        No        No        No      No    No           No   No     No\n",
       "3       No        No        No        No      No    No           No   No     No\n",
       "4       No        No        No        No      No    No           No   No     No\n",
       "5       No        No        No        No      No    No           No   No     No\n",
       "6       No        No        No        No      No    No           No   No     No\n",
       "  barley bartlett_pear basil bay bean beech beef beef_broth beef_liver beer\n",
       "1     No            No   Yes  No   No    No   No         No         No   No\n",
       "2     No            No    No  No   No    No   No         No         No   No\n",
       "3     No            No    No  No   No    No   No         No         No   No\n",
       "4     No            No   Yes  No  Yes    No   No        Yes         No   No\n",
       "5     No            No    No  No   No    No   No         No         No   No\n",
       "6     No            No   Yes  No   No    No  Yes         No         No   No\n",
       "  beet bell_pepper bergamot berry bitter_orange black_bean black_currant\n",
       "1   No          No       No    No            No         No            No\n",
       "2   No          No       No    No            No         No            No\n",
       "3   No          No       No    No            No         No            No\n",
       "4   No          No       No    No            No         No            No\n",
       "5   No          No       No    No            No         No            No\n",
       "6   No          No       No    No            No         No            No\n",
       "  black_mustard_seed_oil black_pepper black_raspberry black_sesame_seed\n",
       "1                     No           No              No                No\n",
       "2                     No          Yes              No                No\n",
       "3                     No           No              No                No\n",
       "4                     No           No              No                No\n",
       "5                     No           No              No                No\n",
       "6                     No           No              No                No\n",
       "  black_tea blackberry blackberry_brandy blue_cheese blueberry bone_oil\n",
       "1        No         No                No          No        No       No\n",
       "2        No         No                No          No        No       No\n",
       "3        No         No                No          No        No       No\n",
       "4        No         No                No          No        No       No\n",
       "5        No         No                No          No        No       No\n",
       "6        No         No                No          No        No       No\n",
       "  bourbon_whiskey brandy brassica bread broccoli brown_rice brussels_sprout\n",
       "1              No     No       No    No       No         No              No\n",
       "2              No     No       No    No       No         No              No\n",
       "3              No     No       No    No       No         No              No\n",
       "4              No     No       No    No       No         No              No\n",
       "5              No     No       No    No       No         No              No\n",
       "6              No     No       No    No       No         No              No\n",
       "  buckwheat butter buttermilk cabbage cabernet_sauvignon_wine cacao\n",
       "1        No     No         No      No                      No    No\n",
       "2        No     No         No      No                      No    No\n",
       "3        No     No         No      No                      No    No\n",
       "4        No     No         No      No                      No    No\n",
       "5        No     No         No      No                      No    No\n",
       "6        No     No         No      No                      No    No\n",
       "  camembert_cheese cane_molasses caraway cardamom carnation carob carrot cashew\n",
       "1               No            No      No       No        No    No    Yes     No\n",
       "2               No            No      No       No        No    No     No     No\n",
       "3               No            No      No       No        No    No     No     No\n",
       "4               No            No      No       No        No    No     No     No\n",
       "5               No            No      No       No        No    No     No     No\n",
       "6               No            No      No       No        No    No     No     No\n",
       "  cassava catfish cauliflower caviar cayenne celery celery_oil cereal chamomile\n",
       "1      No      No          No     No     Yes     No         No     No        No\n",
       "2      No      No          No     No     Yes     No         No     No        No\n",
       "3      No      No          No     No      No     No         No     No        No\n",
       "4      No      No          No     No     Yes     No         No     No        No\n",
       "5      No      No          No     No     Yes     No         No     No        No\n",
       "6      No      No          No     No      No     No         No     No        No\n",
       "  champagne_wine chayote cheddar_cheese cheese cherry cherry_brandy chervil\n",
       "1             No      No             No     No     No            No      No\n",
       "2             No      No             No     No     No            No      No\n",
       "3             No      No             No     No     No            No      No\n",
       "4             No      No             No     No     No            No      No\n",
       "5             No      No             No     No     No            No      No\n",
       "6             No      No             No     No     No            No      No\n",
       "  chicken chicken_broth chicken_liver chickpea chicory chinese_cabbage chive\n",
       "1      No            No            No       No      No              No    No\n",
       "2      No            No            No       No      No              No    No\n",
       "3      No            No            No       No      No              No    No\n",
       "4      No            No            No       No      No              No    No\n",
       "5      No            No            No       No      No              No    No\n",
       "6      No            No            No       No      No              No    No\n",
       "  cider cilantro cinnamon citrus citrus_peel clam clove cocoa coconut\n",
       "1    No      Yes       No     No          No   No    No    No      No\n",
       "2    No       No       No     No          No   No    No    No      No\n",
       "3    No       No       No     No          No   No    No    No      No\n",
       "4    No      Yes       No     No          No   No    No    No      No\n",
       "5    No       No       No     No          No   No    No    No      No\n",
       "6    No       No       No     No          No   No    No    No      No\n",
       "  coconut_oil cod coffee cognac concord_grape condiment coriander corn\n",
       "1          No  No     No     No            No        No        No   No\n",
       "2          No  No     No     No            No        No        No   No\n",
       "3          No  No     No     No            No        No        No   No\n",
       "4          No  No     No     No            No        No        No   No\n",
       "5          No  No     No     No            No        No       Yes   No\n",
       "6          No  No     No     No            No        No       Yes   No\n",
       "  corn_flake corn_grit cottage_cheese crab cranberry cream cream_cheese\n",
       "1         No        No             No   No        No    No           No\n",
       "2         No        No             No   No        No    No           No\n",
       "3         No        No             No   No        No    No           No\n",
       "4         No        No             No   No        No    No           No\n",
       "5         No        No             No   No        No    No           No\n",
       "6         No        No             No   No        No    No           No\n",
       "  cucumber cumin cured_pork currant date dill durian eel egg egg_noodle\n",
       "1      Yes    No         No      No   No   No     No  No  No         No\n",
       "2       No    No         No      No   No   No     No  No  No         No\n",
       "3       No    No         No      No   No   No     No  No  No         No\n",
       "4       No    No         No      No   No   No     No  No  No         No\n",
       "5      Yes    No         No      No   No   No     No  No  No         No\n",
       "6      Yes    No         No      No   No   No     No  No  No         No\n",
       "  elderberry emmental_cheese endive enokidake fennel fenugreek feta_cheese fig\n",
       "1         No              No     No        No     No        No          No  No\n",
       "2         No              No     No        No     No        No          No  No\n",
       "3         No              No     No        No     No        No          No  No\n",
       "4         No              No     No        No     No        No          No  No\n",
       "5         No              No     No        No     No        No          No  No\n",
       "6         No              No     No        No     No        No          No  No\n",
       "  fish flower frankfurter fruit galanga gardenia garlic gelatin geranium gin\n",
       "1  Yes     No          No    No      No       No    Yes      No       No  No\n",
       "2  Yes     No          No    No      No       No    Yes      No       No  No\n",
       "3   No     No          No    No      No       No    Yes      No       No  No\n",
       "4  Yes     No          No    No      No       No     No      No       No  No\n",
       "5  Yes     No          No    No      No       No    Yes      No       No  No\n",
       "6  Yes     No          No    No      No       No    Yes      No       No  No\n",
       "  ginger goat_cheese grape grape_brandy grape_juice grapefruit\n",
       "1     No          No    No           No          No         No\n",
       "2     No          No    No           No          No         No\n",
       "3     No          No    No           No          No         No\n",
       "4    Yes          No    No           No          No         No\n",
       "5     No          No    No           No          No         No\n",
       "6     No          No    No           No          No         No\n",
       "  green_bell_pepper green_tea gruyere_cheese guava haddock ham hazelnut herring\n",
       "1                No        No             No    No      No  No       No      No\n",
       "2                No        No             No    No      No  No       No      No\n",
       "3                No        No             No    No      No  No       No      No\n",
       "4                No        No             No    No      No  No       No      No\n",
       "5                No        No             No    No      No  No       No      No\n",
       "6                No        No             No    No      No  No       No      No\n",
       "  holy_basil honey hop horseradish huckleberry jamaican_rum japanese_plum\n",
       "1         No    No  No          No          No           No            No\n",
       "2         No    No  No          No          No           No            No\n",
       "3         No    No  No          No          No           No            No\n",
       "4         No    No  No          No          No           No            No\n",
       "5         No    No  No          No          No           No            No\n",
       "6         No    No  No          No          No           No            No\n",
       "  jasmine jasmine_tea juniper_berry kaffir_lime kale katsuobushi kelp\n",
       "1      No          No            No          No   No          No   No\n",
       "2      No          No            No          No   No          No   No\n",
       "3      No          No            No          No   No          No   No\n",
       "4      No          No            No          No   No          No   No\n",
       "5      No          No            No          No   No          No   No\n",
       "6      No          No            No          No   No          No   No\n",
       "  kidney_bean kiwi kohlrabi kumquat lamb lard laurel lavender leaf leek lemon\n",
       "1          No   No       No      No   No   No     No       No   No   No    No\n",
       "2          No   No       No      No   No   No     No       No   No   No    No\n",
       "3          No   No       No      No   No   No     No       No   No   No    No\n",
       "4          No   No       No      No   No   No     No       No   No   No    No\n",
       "5          No   No       No      No   No   No     No       No   No   No   Yes\n",
       "6          No   No       No      No   No   No     No       No   No   No    No\n",
       "  lemon_juice lemon_peel lemongrass lentil lettuce licorice lilac_flower_oil\n",
       "1          No         No         No     No     Yes       No               No\n",
       "2          No         No         No     No      No       No               No\n",
       "3          No         No         No     No      No       No               No\n",
       "4          No         No         No     No      No       No               No\n",
       "5          No         No         No     No      No       No               No\n",
       "6          No         No        Yes     No      No       No               No\n",
       "  lima_bean lime lime_juice lime_peel_oil lingonberry litchi liver lobster\n",
       "1        No   No        Yes            No          No     No    No      No\n",
       "2        No   No         No            No          No     No    No      No\n",
       "3        No   No        Yes            No          No     No    No      No\n",
       "4        No  Yes        Yes            No          No     No    No      No\n",
       "5        No   No        Yes            No          No     No    No      No\n",
       "6        No  Yes         No            No          No     No    No      No\n",
       "  long_pepper lovage macadamia_nut macaroni mace mackerel malt mandarin\n",
       "1          No     No            No       No   No       No   No       No\n",
       "2          No     No            No       No   No       No   No       No\n",
       "3          No     No            No       No   No       No   No       No\n",
       "4          No     No            No       No   No       No   No       No\n",
       "5          No     No            No       No   No       No   No       No\n",
       "6          No     No            No       No   No       No   No       No\n",
       "  mandarin_peel mango maple_syrup marjoram mate matsutake meat melon milk\n",
       "1            No    No          No       No   No        No   No    No   No\n",
       "2            No    No          No       No   No        No   No    No   No\n",
       "3            No    No          No       No   No        No   No    No   No\n",
       "4            No    No          No       No   No        No   No    No   No\n",
       "5            No    No          No       No   No        No   No    No   No\n",
       "6            No    No          No       No   No        No   No    No   No\n",
       "  milk_fat mint mozzarella_cheese mung_bean munster_cheese muscat_grape\n",
       "1       No  Yes                No        No             No           No\n",
       "2       No   No                No        No             No           No\n",
       "3       No   No                No        No             No           No\n",
       "4       No  Yes                No        No             No           No\n",
       "5       No  Yes                No        No             No           No\n",
       "6       No  Yes                No        No             No           No\n",
       "  mushroom mussel mustard mutton nectarine nira nut nutmeg oat oatmeal octopus\n",
       "1       No     No      No     No        No   No  No     No  No      No      No\n",
       "2       No     No      No     No        No   No  No     No  No      No      No\n",
       "3       No     No      No     No        No   No  No     No  No      No      No\n",
       "4       No     No      No     No        No   No  No     No  No      No      No\n",
       "5       No     No      No     No        No   No  No     No  No      No      No\n",
       "6       No     No      No     No        No   No  No     No  No      No      No\n",
       "  okra olive olive_oil onion orange orange_flower orange_juice orange_peel\n",
       "1   No    No       Yes    No     No            No           No          No\n",
       "2   No    No        No   Yes     No            No           No          No\n",
       "3   No    No        No    No     No            No           No          No\n",
       "4   No    No        No    No     No            No           No          No\n",
       "5   No    No        No    No     No            No           No          No\n",
       "6   No    No        No    No     No            No           No          No\n",
       "  oregano ouzo oyster palm papaya parmesan_cheese parsley parsnip passion_fruit\n",
       "1      No   No     No   No     No              No      No      No            No\n",
       "2      No   No     No   No     No              No      No      No            No\n",
       "3      No   No     No   No     No              No      No      No            No\n",
       "4      No   No     No   No     No              No      No      No            No\n",
       "5      No   No     No   No     No              No      No      No            No\n",
       "6      No   No     No   No     No              No      No      No            No\n",
       "  pea peach peanut peanut_butter peanut_oil pear pear_brandy pecan pelargonium\n",
       "1  No    No     No            No         No   No          No    No          No\n",
       "2  No    No     No            No         No   No          No    No          No\n",
       "3  No    No     No            No         No   No          No    No          No\n",
       "4 Yes    No     No            No         No   No          No    No          No\n",
       "5  No    No    Yes            No         No   No          No    No          No\n",
       "6  No    No     No            No         No   No          No    No          No\n",
       "  pepper peppermint peppermint_oil pimenta pimento pineapple pistachio plum\n",
       "1     No         No             No      No      No        No        No   No\n",
       "2     No         No             No      No      No        No        No   No\n",
       "3     No         No             No      No      No        No        No   No\n",
       "4     No         No             No      No      No        No        No   No\n",
       "5     No         No             No      No      No        No        No   No\n",
       "6     No         No             No      No      No        No        No   No\n",
       "  popcorn porcini pork pork_liver pork_sausage port_wine potato potato_chip\n",
       "1      No      No   No         No           No        No     No          No\n",
       "2      No      No   No         No           No        No     No          No\n",
       "3      No      No   No         No           No        No     No          No\n",
       "4      No      No   No         No           No        No     No          No\n",
       "5      No      No   No         No           No        No     No          No\n",
       "6      No      No   No         No           No        No     No          No\n",
       "  prawn prickly_pear provolone_cheese pumpkin quince radish raisin rapeseed\n",
       "1    No           No               No      No     No     No     No       No\n",
       "2    No           No               No      No     No     No     No       No\n",
       "3    No           No               No      No     No     No     No       No\n",
       "4    No           No               No      No     No     No     No       No\n",
       "5    No           No               No      No     No     No     No       No\n",
       "6    No           No               No      No     No     No     No       No\n",
       "  raspberry raw_beef red_algae red_bean red_kidney_bean red_wine rhubarb rice\n",
       "1        No       No        No       No              No       No      No  Yes\n",
       "2        No       No        No       No              No       No      No   No\n",
       "3        No       No        No       No              No       No      No   No\n",
       "4        No       No        No       No              No       No      No  Yes\n",
       "5        No       No        No       No              No       No      No  Yes\n",
       "6        No       No        No       No              No       No      No  Yes\n",
       "  roasted_almond roasted_beef roasted_hazelnut roasted_meat roasted_nut\n",
       "1             No           No               No           No          No\n",
       "2             No           No               No           No          No\n",
       "3             No           No               No           No          No\n",
       "4             No          Yes               No           No          No\n",
       "5             No           No               No           No          No\n",
       "6             No           No               No           No          No\n",
       "  roasted_peanut roasted_pecan roasted_pork roasted_sesame_seed romano_cheese\n",
       "1             No            No           No                  No            No\n",
       "2             No            No           No                  No            No\n",
       "3             No            No           No                  No            No\n",
       "4             No            No           No                  No            No\n",
       "5             No            No           No                  No            No\n",
       "6             No            No           No                  No            No\n",
       "  root roquefort_cheese rose rosemary rum rutabaga rye_bread rye_flour saffron\n",
       "1   No               No   No       No  No       No        No        No      No\n",
       "2   No               No   No       No  No       No        No        No      No\n",
       "3   No               No   No       No  No       No        No        No      No\n",
       "4   No               No   No       No  No       No        No        No      No\n",
       "5   No               No   No       No  No       No        No        No      No\n",
       "6  Yes               No   No       No  No       No        No        No      No\n",
       "  sage sake salmon salmon_roe sassafras sauerkraut savory scallion scallop\n",
       "1   No   No     No         No        No         No     No       No      No\n",
       "2   No   No     No         No        No         No     No       No      No\n",
       "3   No   No     No         No        No         No     No       No      No\n",
       "4   No   No     No         No        No         No     No       No      No\n",
       "5   No   No     No         No        No         No     No      Yes      No\n",
       "6   No   No     No         No        No         No     No       No      No\n",
       "  sea_algae seaweed seed sesame_oil sesame_seed shallot sheep_cheese shellfish\n",
       "1        No      No  Yes         No          No      No           No        No\n",
       "2        No      No  Yes         No          No      No           No        No\n",
       "3        No      No   No         No          No      No           No        No\n",
       "4        No      No   No         No          No     Yes           No        No\n",
       "5        No      No   No         No          No      No           No        No\n",
       "6        No      No   No        Yes          No      No           No        No\n",
       "  sherry shiitake shrimp smoke smoked_fish smoked_salmon smoked_sausage\n",
       "1     No      Yes    Yes    No          No            No             No\n",
       "2     No       No     No    No          No            No             No\n",
       "3     No       No     No    No          No            No             No\n",
       "4     No       No     No    No          No            No             No\n",
       "5     No       No    Yes    No          No            No             No\n",
       "6     No       No     No    No          No            No             No\n",
       "  sour_cherry sour_milk soy_sauce soybean soybean_oil spearmint squash squid\n",
       "1          No        No        No      No          No        No     No    No\n",
       "2          No        No        No      No          No        No     No    No\n",
       "3          No        No       Yes      No          No        No     No    No\n",
       "4          No        No        No      No          No        No     No    No\n",
       "5          No        No        No      No          No        No     No    No\n",
       "6          No        No       Yes      No          No        No     No    No\n",
       "  star_anise starch strawberry strawberry_jam strawberry_juice sturgeon_caviar\n",
       "1         No     No         No             No               No              No\n",
       "2         No     No         No             No               No              No\n",
       "3         No     No         No             No               No              No\n",
       "4         No     No         No             No               No              No\n",
       "5         No     No         No             No               No              No\n",
       "6         No     No         No             No               No              No\n",
       "  sumac sunflower_oil sweet_potato swiss_cheese tabasco_pepper tamarind\n",
       "1    No            No           No           No             No       No\n",
       "2    No            No           No           No             No       No\n",
       "3    No            No           No           No             No       No\n",
       "4    No            No           No           No             No       No\n",
       "5    No            No           No           No             No       No\n",
       "6    No            No           No           No             No       No\n",
       "  tangerine tarragon tea tequila thai_pepper thyme tomato tomato_juice truffle\n",
       "1        No       No  No      No          No    No     No           No      No\n",
       "2        No       No  No      No          No    No     No           No      No\n",
       "3        No       No  No      No         Yes    No     No           No      No\n",
       "4        No       No  No      No          No    No     No           No      No\n",
       "5        No       No  No      No          No    No     No           No      No\n",
       "6        No       No  No      No          No    No     No           No      No\n",
       "  tuna turkey turmeric turnip vanilla veal vegetable vegetable_oil vinegar\n",
       "1   No     No       No     No      No   No        No            No     Yes\n",
       "2   No     No       No     No      No   No        No            No      No\n",
       "3   No     No       No     No      No   No        No            No      No\n",
       "4   No     No       No     No      No   No        No           Yes      No\n",
       "5   No     No       No     No      No   No        No            No     Yes\n",
       "6   No     No       No     No      No   No        No           Yes      No\n",
       "  violet walnut wasabi watercress watermelon wheat wheat_bread whiskey\n",
       "1     No     No     No         No         No    No          No      No\n",
       "2     No     No     No         No         No    No          No      No\n",
       "3     No     No     No         No         No    No          No      No\n",
       "4     No     No     No         No         No    No          No      No\n",
       "5     No     No     No         No         No    No          No      No\n",
       "6     No     No     No         No         No    No          No      No\n",
       "  white_bread white_wine whole_grain_wheat_flour wine wood yam yeast yogurt\n",
       "1          No         No                      No   No   No  No    No     No\n",
       "2          No         No                      No   No   No  No    No     No\n",
       "3          No         No                      No   No   No  No    No     No\n",
       "4          No         No                      No   No   No  No    No     No\n",
       "5          No         No                      No   No   No  No    No     No\n",
       "6          No         No                      No   No   No  No    No     No\n",
       "  zucchini\n",
       "1       No\n",
       "2       No\n",
       "3       No\n",
       "4       No\n",
       "5       No\n",
       "6       No"
      ]
     },
     "execution_count": 42,
     "metadata": {},
     "output_type": "execute_result"
    }
   ],
   "source": [
    "head(recipes)"
   ]
  },
  {
   "cell_type": "markdown",
   "metadata": {},
   "source": [
    "<br> \n",
    "## [bamboo_tree] Only East Asian countries (+ India)\n",
    "\n",
    "Here, we are creating a decision tree for the recipes for just some of the East Asian (Korean, Japanese, Chinese, Thai) and Indian cuisines. The reason for this is because the decision tree does not run well when the data is biased towards one output (American cuisines). To rectify this, we can just take a subset of the dataframe to build the decision tree.\n",
    "\n",
    "**Problem:**\n",
    "- \"recipes_mid\" decision tree not specific enough\n",
    "\n",
    "**Goals:**\n",
    "- create a decision tree for just East Asian countries (Korean, Japanese, Chinese, Thai)\n",
    "- add Indian cuisine for comparison"
   ]
  },
  {
   "cell_type": "markdown",
   "metadata": {},
   "source": [
    "Run the cell below to create a decision tree, assigned to `bamboo_tree`:"
   ]
  },
  {
   "cell_type": "code",
   "execution_count": 43,
   "metadata": {
    "collapsed": false
   },
   "outputs": [],
   "source": [
    "### ASSIGN THE MODEL TO \"bamboo_tree\" ###\n",
    "\n",
    "## Select subset of countries\n",
    "bamboo_tree <- rpart(formula = country ~ ., \n",
    "                     data = recipes[recipes$country %in% c(\"korean\", \n",
    "                                                           \"japanese\", \n",
    "                                                           \"chinese\", \n",
    "                                                           \"thai\",\n",
    "                                                           \"indian\"),], \n",
    "                     method =\"class\")\n",
    "\n",
    "#Decision tree model saved to bamboo_tree"
   ]
  },
  {
   "cell_type": "markdown",
   "metadata": {},
   "source": [
    "For more information on the `rpart` function, you can precede the function with a question mark to get more info:"
   ]
  },
  {
   "cell_type": "code",
   "execution_count": 44,
   "metadata": {
    "collapsed": false
   },
   "outputs": [
    {
     "data": {
      "text/plain": []
     },
     "execution_count": 44,
     "metadata": {},
     "output_type": "execute_result"
    }
   ],
   "source": [
    "?rpart"
   ]
  },
  {
   "cell_type": "markdown",
   "metadata": {},
   "source": [
    "Plot the decision tree, `bamboo_tree`:"
   ]
  },
  {
   "cell_type": "code",
   "execution_count": 45,
   "metadata": {
    "collapsed": false
   },
   "outputs": [
    {
     "data": {
      "image/png": "[encoded data removed]"
     },
     "metadata": {},
     "output_type": "display_data"
    }
   ],
   "source": [
    "# Run this\n",
    "\n",
    "## Plot the East Asian + Indian model\n",
    "## run \"?rpart.plot\" if you want to see the arguments for rpart.plot\n",
    "rpart.plot(bamboo_tree, type = 3, extra = 2, under = TRUE, cex = 0.75, varlen = 0, faclen = 0)"
   ]
  },
  {
   "cell_type": "markdown",
   "metadata": {},
   "source": [
    "Print the summary for `bamboo_tree`"
   ]
  },
  {
   "cell_type": "code",
   "execution_count": 46,
   "metadata": {
    "collapsed": false
   },
   "outputs": [
    {
     "name": "stdout",
     "output_type": "stream",
     "text": [
      "Call:\n",
      "rpart(formula = country ~ ., data = recipes[recipes$country %in% \n",
      "    c(\"korean\", \"japanese\", \"chinese\", \"thai\", \"indian\"), ], \n",
      "    method = \"class\")\n",
      "  n= 2448 \n",
      "\n",
      "          CP nsplit rel error    xerror       xstd\n",
      "1 0.21710127      0 1.0000000 1.0000000 0.01406881\n",
      "2 0.03608247      1 0.7828987 0.7828987 0.01497971\n",
      "3 0.02789569      4 0.6701031 0.6749545 0.01494039\n",
      "4 0.02183141      5 0.6422074 0.6652517 0.01492123\n",
      "5 0.01855670      6 0.6203760 0.6070346 0.01475112\n",
      "6 0.01334142     11 0.5275925 0.5500303 0.01449034\n",
      "7 0.01000000     12 0.5142511 0.5294118 0.01437213\n",
      "\n",
      "Variable importance\n",
      "              cumin           coriander            turmeric           fenugreek \n",
      "                 19                  12                  12                   9 \n",
      "roasted_sesame_seed              starch              pepper                fish \n",
      "                  8                   5                   4                   4 \n",
      "         lime_juice              yogurt             cayenne             coconut \n",
      "                  4                   3                   3                   3 \n",
      "           cardamom            cilantro             seaweed           soy_sauce \n",
      "                  2                   2                   2                   2 \n",
      "               pork \n",
      "                  2 \n",
      "\n",
      "Node number 1: 2448 observations,    complexity param=0.2171013\n",
      "  predicted class=korean    expected loss=0.6736111  P(node) =1\n",
      "    class counts:     0     0     0     0     0     0     0   442     0     0     0     0     0     0     0   598     0     0   320     0   799     0     0     0     0     0     0     0     0     0     0     0     0   289\n",
      "   probabilities: 0.000 0.000 0.000 0.000 0.000 0.000 0.000 0.181 0.000 0.000 0.000 0.000 0.000 0.000 0.000 0.244 0.000 0.000 0.131 0.000 0.326 0.000 0.000 0.000 0.000 0.000 0.000 0.000 0.000 0.000 0.000 0.000 0.000 0.118 \n",
      "  left son=2 (1986 obs) right son=3 (462 obs)\n",
      "  Primary splits:\n",
      "      cumin               splits as  LR, improve=250.2659, (0 missing)\n",
      "      turmeric            splits as  LR, improve=201.8435, (0 missing)\n",
      "      coriander           splits as  LR, improve=176.8898, (0 missing)\n",
      "      roasted_sesame_seed splits as  LR, improve=137.2226, (0 missing)\n",
      "      soy_sauce           splits as  RL, improve=134.1379, (0 missing)\n",
      "  Surrogate splits:\n",
      "      coriander splits as  LR, agree=0.932, adj=0.641, (0 split)\n",
      "      turmeric  splits as  LR, agree=0.930, adj=0.628, (0 split)\n",
      "      fenugreek splits as  LR, agree=0.906, adj=0.502, (0 split)\n",
      "      pepper    splits as  LR, agree=0.851, adj=0.210, (0 split)\n",
      "      coconut   splits as  LR, agree=0.842, adj=0.160, (0 split)\n",
      "\n",
      "Node number 2: 1986 observations,    complexity param=0.03608247\n",
      "  predicted class=korean    expected loss=0.5991944  P(node) =0.8112745\n",
      "    class counts:     0     0     0     0     0     0     0   438     0     0     0     0     0     0     0   237     0     0   314     0   796     0     0     0     0     0     0     0     0     0     0     0     0   201\n",
      "   probabilities: 0.000 0.000 0.000 0.000 0.000 0.000 0.000 0.221 0.000 0.000 0.000 0.000 0.000 0.000 0.000 0.119 0.000 0.000 0.158 0.000 0.401 0.000 0.000 0.000 0.000 0.000 0.000 0.000 0.000 0.000 0.000 0.000 0.000 0.101 \n",
      "  left son=4 (1738 obs) right son=5 (248 obs)\n",
      "  Primary splits:\n",
      "      roasted_sesame_seed splits as  LR, improve=109.24240, (0 missing)\n",
      "      starch              splits as  RL, improve= 71.05865, (0 missing)\n",
      "      cilantro            splits as  LR, improve= 58.85874, (0 missing)\n",
      "      lime_juice          splits as  LR, improve= 55.72083, (0 missing)\n",
      "      cayenne             splits as  LR, improve= 53.24385, (0 missing)\n",
      "  Surrogate splits:\n",
      "      beef_liver        splits as  LR, agree=0.876, adj=0.004, (0 split)\n",
      "      mozzarella_cheese splits as  LR, agree=0.876, adj=0.004, (0 split)\n",
      "      raw_beef          splits as  LR, agree=0.876, adj=0.004, (0 split)\n",
      "      red_algae         splits as  LR, agree=0.876, adj=0.004, (0 split)\n",
      "\n",
      "Node number 3: 462 observations,    complexity param=0.02183141\n",
      "  predicted class=indian    expected loss=0.2186147  P(node) =0.1887255\n",
      "    class counts:     0     0     0     0     0     0     0     4     0     0     0     0     0     0     0   361     0     0     6     0     3     0     0     0     0     0     0     0     0     0     0     0     0    88\n",
      "   probabilities: 0.000 0.000 0.000 0.000 0.000 0.000 0.000 0.009 0.000 0.000 0.000 0.000 0.000 0.000 0.000 0.781 0.000 0.000 0.013 0.000 0.006 0.000 0.000 0.000 0.000 0.000 0.000 0.000 0.000 0.000 0.000 0.000 0.000 0.190 \n",
      "  left son=6 (405 obs) right son=7 (57 obs)\n",
      "  Primary splits:\n",
      "      fish        splits as  LR, improve=48.86275, (0 missing)\n",
      "      lemongrass  splits as  LR, improve=39.85473, (0 missing)\n",
      "      coconut     splits as  LR, improve=39.45020, (0 missing)\n",
      "      soy_sauce   splits as  LR, improve=31.71643, (0 missing)\n",
      "      thai_pepper splits as  LR, improve=24.62235, (0 missing)\n",
      "  Surrogate splits:\n",
      "      palm        splits as  LR, agree=0.883, adj=0.053, (0 split)\n",
      "      thai_pepper splits as  LR, agree=0.883, adj=0.053, (0 split)\n",
      "      galanga     splits as  LR, agree=0.881, adj=0.035, (0 split)\n",
      "      lemongrass  splits as  LR, agree=0.881, adj=0.035, (0 split)\n",
      "      mussel      splits as  LR, agree=0.881, adj=0.035, (0 split)\n",
      "\n",
      "Node number 4: 1738 observations,    complexity param=0.03608247\n",
      "  predicted class=korean    expected loss=0.6777906  P(node) =0.7099673\n",
      "    class counts:     0     0     0     0     0     0     0   433     0     0     0     0     0     0     0   237     0     0   309     0   560     0     0     0     0     0     0     0     0     0     0     0     0   199\n",
      "   probabilities: 0.000 0.000 0.000 0.000 0.000 0.000 0.000 0.249 0.000 0.000 0.000 0.000 0.000 0.000 0.000 0.136 0.000 0.000 0.178 0.000 0.322 0.000 0.000 0.000 0.000 0.000 0.000 0.000 0.000 0.000 0.000 0.000 0.000 0.114 \n",
      "  left son=8 (231 obs) right son=9 (1507 obs)\n",
      "  Primary splits:\n",
      "      starch     splits as  RL, improve=66.50600, (0 missing)\n",
      "      soy_sauce  splits as  RL, improve=57.05287, (0 missing)\n",
      "      lime_juice splits as  LR, improve=49.58226, (0 missing)\n",
      "      cilantro   splits as  LR, improve=45.18188, (0 missing)\n",
      "      lemongrass splits as  LR, improve=45.15206, (0 missing)\n",
      "  Surrogate splits:\n",
      "      black_bean splits as  RL, agree=0.868, adj=0.004, (0 split)\n",
      "      chervil    splits as  RL, agree=0.868, adj=0.004, (0 split)\n",
      "      pineapple  splits as  RL, agree=0.868, adj=0.004, (0 split)\n",
      "      sea_algae  splits as  RL, agree=0.868, adj=0.004, (0 split)\n",
      "\n",
      "Node number 5: 248 observations\n",
      "  predicted class=korean    expected loss=0.0483871  P(node) =0.1013072\n",
      "    class counts:     0     0     0     0     0     0     0     5     0     0     0     0     0     0     0     0     0     0     5     0   236     0     0     0     0     0     0     0     0     0     0     0     0     2\n",
      "   probabilities: 0.000 0.000 0.000 0.000 0.000 0.000 0.000 0.020 0.000 0.000 0.000 0.000 0.000 0.000 0.000 0.000 0.000 0.000 0.020 0.000 0.952 0.000 0.000 0.000 0.000 0.000 0.000 0.000 0.000 0.000 0.000 0.000 0.000 0.008 \n",
      "\n",
      "Node number 6: 405 observations\n",
      "  predicted class=indian    expected loss=0.1283951  P(node) =0.1654412\n",
      "    class counts:     0     0     0     0     0     0     0     4     0     0     0     0     0     0     0   353     0     0     3     0     1     0     0     0     0     0     0     0     0     0     0     0     0    44\n",
      "   probabilities: 0.000 0.000 0.000 0.000 0.000 0.000 0.000 0.010 0.000 0.000 0.000 0.000 0.000 0.000 0.000 0.872 0.000 0.000 0.007 0.000 0.002 0.000 0.000 0.000 0.000 0.000 0.000 0.000 0.000 0.000 0.000 0.000 0.000 0.109 \n",
      "\n",
      "Node number 7: 57 observations\n",
      "  predicted class=thai      expected loss=0.2280702  P(node) =0.02328431\n",
      "    class counts:     0     0     0     0     0     0     0     0     0     0     0     0     0     0     0     8     0     0     3     0     2     0     0     0     0     0     0     0     0     0     0     0     0    44\n",
      "   probabilities: 0.000 0.000 0.000 0.000 0.000 0.000 0.000 0.000 0.000 0.000 0.000 0.000 0.000 0.000 0.000 0.140 0.000 0.000 0.053 0.000 0.035 0.000 0.000 0.000 0.000 0.000 0.000 0.000 0.000 0.000 0.000 0.000 0.000 0.772 \n",
      "\n",
      "Node number 8: 231 observations\n",
      "  predicted class=chinese   expected loss=0.3073593  P(node) =0.09436275\n",
      "    class counts:     0     0     0     0     0     0     0   160     0     0     0     0     0     0     0     2     0     0    16     0    41     0     0     0     0     0     0     0     0     0     0     0     0    12\n",
      "   probabilities: 0.000 0.000 0.000 0.000 0.000 0.000 0.000 0.693 0.000 0.000 0.000 0.000 0.000 0.000 0.000 0.009 0.000 0.000 0.069 0.000 0.177 0.000 0.000 0.000 0.000 0.000 0.000 0.000 0.000 0.000 0.000 0.000 0.000 0.052 \n",
      "\n",
      "Node number 9: 1507 observations,    complexity param=0.03608247\n",
      "  predicted class=korean    expected loss=0.6556072  P(node) =0.6156046\n",
      "    class counts:     0     0     0     0     0     0     0   273     0     0     0     0     0     0     0   235     0     0   293     0   519     0     0     0     0     0     0     0     0     0     0     0     0   187\n",
      "   probabilities: 0.000 0.000 0.000 0.000 0.000 0.000 0.000 0.181 0.000 0.000 0.000 0.000 0.000 0.000 0.000 0.156 0.000 0.000 0.194 0.000 0.344 0.000 0.000 0.000 0.000 0.000 0.000 0.000 0.000 0.000 0.000 0.000 0.000 0.124 \n",
      "  left son=18 (1410 obs) right son=19 (97 obs)\n",
      "  Primary splits:\n",
      "      lime_juice splits as  LR, improve=47.78893, (0 missing)\n",
      "      cilantro   splits as  LR, improve=46.87130, (0 missing)\n",
      "      lemongrass splits as  LR, improve=43.41155, (0 missing)\n",
      "      yogurt     splits as  RL, improve=43.35010, (0 missing)\n",
      "      soy_sauce  splits as  RL, improve=42.27003, (0 missing)\n",
      "  Surrogate splits:\n",
      "      grapefruit    splits as  LR, agree=0.938, adj=0.031, (0 split)\n",
      "      anise         splits as  LR, agree=0.936, adj=0.010, (0 split)\n",
      "      holy_basil    splits as  LR, agree=0.936, adj=0.010, (0 split)\n",
      "      lime_peel_oil splits as  LR, agree=0.936, adj=0.010, (0 split)\n",
      "      litchi        splits as  LR, agree=0.936, adj=0.010, (0 split)\n",
      "\n",
      "Node number 18: 1410 observations,    complexity param=0.02789569\n",
      "  predicted class=korean    expected loss=0.6319149  P(node) =0.5759804\n",
      "    class counts:     0     0     0     0     0     0     0   267     0     0     0     0     0     0     0   222     0     0   282     0   519     0     0     0     0     0     0     0     0     0     0     0     0   120\n",
      "   probabilities: 0.000 0.000 0.000 0.000 0.000 0.000 0.000 0.189 0.000 0.000 0.000 0.000 0.000 0.000 0.000 0.157 0.000 0.000 0.200 0.000 0.368 0.000 0.000 0.000 0.000 0.000 0.000 0.000 0.000 0.000 0.000 0.000 0.000 0.085 \n",
      "  left son=36 (49 obs) right son=37 (1361 obs)\n",
      "  Primary splits:\n",
      "      yogurt    splits as  RL, improve=41.16696, (0 missing)\n",
      "      soy_sauce splits as  RL, improve=40.08478, (0 missing)\n",
      "      cayenne   splits as  LR, improve=39.11455, (0 missing)\n",
      "      cardamom  splits as  RL, improve=37.34727, (0 missing)\n",
      "      turmeric  splits as  RL, improve=34.72450, (0 missing)\n",
      "  Surrogate splits:\n",
      "      jasmine     splits as  RL, agree=0.966, adj=0.02, (0 split)\n",
      "      prawn       splits as  RL, agree=0.966, adj=0.02, (0 split)\n",
      "      wheat_bread splits as  RL, agree=0.966, adj=0.02, (0 split)\n",
      "\n",
      "Node number 19: 97 observations\n",
      "  predicted class=thai      expected loss=0.3092784  P(node) =0.03962418\n",
      "    class counts:     0     0     0     0     0     0     0     6     0     0     0     0     0     0     0    13     0     0    11     0     0     0     0     0     0     0     0     0     0     0     0     0     0    67\n",
      "   probabilities: 0.000 0.000 0.000 0.000 0.000 0.000 0.000 0.062 0.000 0.000 0.000 0.000 0.000 0.000 0.000 0.134 0.000 0.000 0.113 0.000 0.000 0.000 0.000 0.000 0.000 0.000 0.000 0.000 0.000 0.000 0.000 0.000 0.000 0.691 \n",
      "\n",
      "Node number 36: 49 observations\n",
      "  predicted class=indian    expected loss=0.06122449  P(node) =0.02001634\n",
      "    class counts:     0     0     0     0     0     0     0     1     0     0     0     0     0     0     0    46     0     0     1     0     0     0     0     0     0     0     0     0     0     0     0     0     0     1\n",
      "   probabilities: 0.000 0.000 0.000 0.000 0.000 0.000 0.000 0.020 0.000 0.000 0.000 0.000 0.000 0.000 0.000 0.939 0.000 0.000 0.020 0.000 0.000 0.000 0.000 0.000 0.000 0.000 0.000 0.000 0.000 0.000 0.000 0.000 0.000 0.020 \n",
      "\n",
      "Node number 37: 1361 observations,    complexity param=0.0185567\n",
      "  predicted class=korean    expected loss=0.6186627  P(node) =0.5559641\n",
      "    class counts:     0     0     0     0     0     0     0   266     0     0     0     0     0     0     0   176     0     0   281     0   519     0     0     0     0     0     0     0     0     0     0     0     0   119\n",
      "   probabilities: 0.000 0.000 0.000 0.000 0.000 0.000 0.000 0.195 0.000 0.000 0.000 0.000 0.000 0.000 0.000 0.129 0.000 0.000 0.206 0.000 0.381 0.000 0.000 0.000 0.000 0.000 0.000 0.000 0.000 0.000 0.000 0.000 0.000 0.087 \n",
      "  left son=74 (930 obs) right son=75 (431 obs)\n",
      "  Primary splits:\n",
      "      cayenne   splits as  LR, improve=40.40930, (0 missing)\n",
      "      cardamom  splits as  RL, improve=32.68644, (0 missing)\n",
      "      soy_sauce splits as  RL, improve=31.42900, (0 missing)\n",
      "      wine      splits as  RL, improve=31.10745, (0 missing)\n",
      "      cilantro  splits as  LR, improve=30.60168, (0 missing)\n",
      "  Surrogate splits:\n",
      "      chinese_cabbage splits as  LR, agree=0.711, adj=0.088, (0 split)\n",
      "      radish          splits as  LR, agree=0.702, adj=0.060, (0 split)\n",
      "      garlic          splits as  LR, agree=0.698, adj=0.046, (0 split)\n",
      "      turmeric        splits as  LR, agree=0.691, adj=0.026, (0 split)\n",
      "      brassica        splits as  LR, agree=0.690, adj=0.021, (0 split)\n",
      "\n",
      "Node number 74: 930 observations,    complexity param=0.0185567\n",
      "  predicted class=korean    expected loss=0.6989247  P(node) =0.379902\n",
      "    class counts:     0     0     0     0     0     0     0   215     0     0     0     0     0     0     0   113     0     0   261     0   280     0     0     0     0     0     0     0     0     0     0     0     0    61\n",
      "   probabilities: 0.000 0.000 0.000 0.000 0.000 0.000 0.000 0.231 0.000 0.000 0.000 0.000 0.000 0.000 0.000 0.122 0.000 0.000 0.281 0.000 0.301 0.000 0.000 0.000 0.000 0.000 0.000 0.000 0.000 0.000 0.000 0.000 0.000 0.066 \n",
      "  left son=148 (33 obs) right son=149 (897 obs)\n",
      "  Primary splits:\n",
      "      cardamom  splits as  RL, improve=32.28190, (0 missing)\n",
      "      soy_sauce splits as  RL, improve=25.35682, (0 missing)\n",
      "      seaweed   splits as  LR, improve=24.86052, (0 missing)\n",
      "      pork      splits as  RL, improve=21.63856, (0 missing)\n",
      "      sake      splits as  LR, improve=21.04283, (0 missing)\n",
      "  Surrogate splits:\n",
      "      pistachio   splits as  RL, agree=0.970, adj=0.152, (0 split)\n",
      "      cashew      splits as  RL, agree=0.968, adj=0.091, (0 split)\n",
      "      saffron     splits as  RL, agree=0.967, adj=0.061, (0 split)\n",
      "      coffee      splits as  RL, agree=0.966, adj=0.030, (0 split)\n",
      "      kidney_bean splits as  RL, agree=0.966, adj=0.030, (0 split)\n",
      "\n",
      "Node number 75: 431 observations,    complexity param=0.01334142\n",
      "  predicted class=korean    expected loss=0.4454756  P(node) =0.1760621\n",
      "    class counts:     0     0     0     0     0     0     0    51     0     0     0     0     0     0     0    63     0     0    20     0   239     0     0     0     0     0     0     0     0     0     0     0     0    58\n",
      "   probabilities: 0.000 0.000 0.000 0.000 0.000 0.000 0.000 0.118 0.000 0.000 0.000 0.000 0.000 0.000 0.000 0.146 0.000 0.000 0.046 0.000 0.555 0.000 0.000 0.000 0.000 0.000 0.000 0.000 0.000 0.000 0.000 0.000 0.000 0.135 \n",
      "  left son=150 (370 obs) right son=151 (61 obs)\n",
      "  Primary splits:\n",
      "      cilantro splits as  LR, improve=29.42701, (0 missing)\n",
      "      scallion splits as  RL, improve=27.42472, (0 missing)\n",
      "      turmeric splits as  RL, improve=25.20912, (0 missing)\n",
      "      soybean  splits as  RL, improve=22.13725, (0 missing)\n",
      "      tomato   splits as  LR, improve=19.91976, (0 missing)\n",
      "  Surrogate splits:\n",
      "      bread           splits as  LR, agree=0.865, adj=0.049, (0 split)\n",
      "      root            splits as  LR, agree=0.865, adj=0.049, (0 split)\n",
      "      brussels_sprout splits as  LR, agree=0.861, adj=0.016, (0 split)\n",
      "      galanga         splits as  LR, agree=0.861, adj=0.016, (0 split)\n",
      "      lemon_peel      splits as  LR, agree=0.861, adj=0.016, (0 split)\n",
      "\n",
      "Node number 148: 33 observations\n",
      "  predicted class=indian    expected loss=0.03030303  P(node) =0.01348039\n",
      "    class counts:     0     0     0     0     0     0     0     0     0     0     0     0     0     0     0    32     0     0     0     0     0     0     0     0     0     0     0     0     0     0     0     0     0     1\n",
      "   probabilities: 0.000 0.000 0.000 0.000 0.000 0.000 0.000 0.000 0.000 0.000 0.000 0.000 0.000 0.000 0.000 0.970 0.000 0.000 0.000 0.000 0.000 0.000 0.000 0.000 0.000 0.000 0.000 0.000 0.000 0.000 0.000 0.000 0.000 0.030 \n",
      "\n",
      "Node number 149: 897 observations,    complexity param=0.0185567\n",
      "  predicted class=korean    expected loss=0.6878484  P(node) =0.3664216\n",
      "    class counts:     0     0     0     0     0     0     0   215     0     0     0     0     0     0     0    81     0     0   261     0   280     0     0     0     0     0     0     0     0     0     0     0     0    60\n",
      "   probabilities: 0.000 0.000 0.000 0.000 0.000 0.000 0.000 0.240 0.000 0.000 0.000 0.000 0.000 0.000 0.000 0.090 0.000 0.000 0.291 0.000 0.312 0.000 0.000 0.000 0.000 0.000 0.000 0.000 0.000 0.000 0.000 0.000 0.000 0.067 \n",
      "  left son=298 (824 obs) right son=299 (73 obs)\n",
      "  Primary splits:\n",
      "      seaweed   splits as  LR, improve=24.08535, (0 missing)\n",
      "      pork      splits as  RL, improve=21.12593, (0 missing)\n",
      "      pepper    splits as  RL, improve=20.18221, (0 missing)\n",
      "      soy_sauce splits as  RL, improve=19.85187, (0 missing)\n",
      "      ginger    splits as  RL, improve=19.84089, (0 missing)\n",
      "  Surrogate splits:\n",
      "      avocado       splits as  LR, agree=0.930, adj=0.137, (0 split)\n",
      "      wasabi        splits as  LR, agree=0.923, adj=0.055, (0 split)\n",
      "      smoked_salmon splits as  LR, agree=0.921, adj=0.027, (0 split)\n",
      "      katsuobushi   splits as  LR, agree=0.920, adj=0.014, (0 split)\n",
      "      salmon_roe    splits as  LR, agree=0.920, adj=0.014, (0 split)\n",
      "\n",
      "Node number 150: 370 observations\n",
      "  predicted class=korean    expected loss=0.3540541  P(node) =0.1511438\n",
      "    class counts:     0     0     0     0     0     0     0    36     0     0     0     0     0     0     0    42     0     0    17     0   239     0     0     0     0     0     0     0     0     0     0     0     0    36\n",
      "   probabilities: 0.000 0.000 0.000 0.000 0.000 0.000 0.000 0.097 0.000 0.000 0.000 0.000 0.000 0.000 0.000 0.114 0.000 0.000 0.046 0.000 0.646 0.000 0.000 0.000 0.000 0.000 0.000 0.000 0.000 0.000 0.000 0.000 0.000 0.097 \n",
      "\n",
      "Node number 151: 61 observations\n",
      "  predicted class=thai      expected loss=0.6393443  P(node) =0.0249183\n",
      "    class counts:     0     0     0     0     0     0     0    15     0     0     0     0     0     0     0    21     0     0     3     0     0     0     0     0     0     0     0     0     0     0     0     0     0    22\n",
      "   probabilities: 0.000 0.000 0.000 0.000 0.000 0.000 0.000 0.246 0.000 0.000 0.000 0.000 0.000 0.000 0.000 0.344 0.000 0.000 0.049 0.000 0.000 0.000 0.000 0.000 0.000 0.000 0.000 0.000 0.000 0.000 0.000 0.000 0.000 0.361 \n",
      "\n",
      "Node number 298: 824 observations,    complexity param=0.0185567\n",
      "  predicted class=korean    expected loss=0.6808252  P(node) =0.3366013\n",
      "    class counts:     0     0     0     0     0     0     0   215     0     0     0     0     0     0     0    81     0     0   205     0   263     0     0     0     0     0     0     0     0     0     0     0     0    60\n",
      "   probabilities: 0.000 0.000 0.000 0.000 0.000 0.000 0.000 0.261 0.000 0.000 0.000 0.000 0.000 0.000 0.000 0.098 0.000 0.000 0.249 0.000 0.319 0.000 0.000 0.000 0.000 0.000 0.000 0.000 0.000 0.000 0.000 0.000 0.000 0.073 \n",
      "  left son=596 (372 obs) right son=597 (452 obs)\n",
      "  Primary splits:\n",
      "      soy_sauce splits as  RL, improve=22.96973, (0 missing)\n",
      "      pork      splits as  RL, improve=20.56853, (0 missing)\n",
      "      sake      splits as  LR, improve=20.35552, (0 missing)\n",
      "      pepper    splits as  RL, improve=19.78081, (0 missing)\n",
      "      wine      splits as  RL, improve=19.26357, (0 missing)\n",
      "  Surrogate splits:\n",
      "      sake       splits as  RL, agree=0.648, adj=0.220, (0 split)\n",
      "      sesame_oil splits as  RL, agree=0.647, adj=0.218, (0 split)\n",
      "      scallion   splits as  RL, agree=0.642, adj=0.207, (0 split)\n",
      "      garlic     splits as  RL, agree=0.636, adj=0.194, (0 split)\n",
      "      ginger     splits as  RL, agree=0.629, adj=0.177, (0 split)\n",
      "\n",
      "Node number 299: 73 observations\n",
      "  predicted class=japanese  expected loss=0.2328767  P(node) =0.02982026\n",
      "    class counts:     0     0     0     0     0     0     0     0     0     0     0     0     0     0     0     0     0     0    56     0    17     0     0     0     0     0     0     0     0     0     0     0     0     0\n",
      "   probabilities: 0.000 0.000 0.000 0.000 0.000 0.000 0.000 0.000 0.000 0.000 0.000 0.000 0.000 0.000 0.000 0.000 0.000 0.000 0.767 0.000 0.233 0.000 0.000 0.000 0.000 0.000 0.000 0.000 0.000 0.000 0.000 0.000 0.000 0.000 \n",
      "\n",
      "Node number 596: 372 observations,    complexity param=0.0185567\n",
      "  predicted class=japanese  expected loss=0.6478495  P(node) =0.1519608\n",
      "    class counts:     0     0     0     0     0     0     0   129     0     0     0     0     0     0     0     0     0     0   131     0    90     0     0     0     0     0     0     0     0     0     0     0     0    22\n",
      "   probabilities: 0.000 0.000 0.000 0.000 0.000 0.000 0.000 0.347 0.000 0.000 0.000 0.000 0.000 0.000 0.000 0.000 0.000 0.000 0.352 0.000 0.242 0.000 0.000 0.000 0.000 0.000 0.000 0.000 0.000 0.000 0.000 0.000 0.000 0.059 \n",
      "  left son=1192 (59 obs) right son=1193 (313 obs)\n",
      "  Primary splits:\n",
      "      pork         splits as  RL, improve=22.18152, (0 missing)\n",
      "      sake         splits as  LR, improve=18.51838, (0 missing)\n",
      "      ginger       splits as  RL, improve=16.55375, (0 missing)\n",
      "      black_pepper splits as  LR, improve=12.32387, (0 missing)\n",
      "      garlic       splits as  LR, improve=11.48001, (0 missing)\n",
      "  Surrogate splits:\n",
      "      nira       splits as  RL, agree=0.852, adj=0.068, (0 split)\n",
      "      lard       splits as  RL, agree=0.847, adj=0.034, (0 split)\n",
      "      black_bean splits as  RL, agree=0.844, adj=0.017, (0 split)\n",
      "      gelatin    splits as  RL, agree=0.844, adj=0.017, (0 split)\n",
      "      ham        splits as  RL, agree=0.844, adj=0.017, (0 split)\n",
      "\n",
      "Node number 597: 452 observations\n",
      "  predicted class=korean    expected loss=0.6172566  P(node) =0.1846405\n",
      "    class counts:     0     0     0     0     0     0     0    86     0     0     0     0     0     0     0    81     0     0    74     0   173     0     0     0     0     0     0     0     0     0     0     0     0    38\n",
      "   probabilities: 0.000 0.000 0.000 0.000 0.000 0.000 0.000 0.190 0.000 0.000 0.000 0.000 0.000 0.000 0.000 0.179 0.000 0.000 0.164 0.000 0.383 0.000 0.000 0.000 0.000 0.000 0.000 0.000 0.000 0.000 0.000 0.000 0.000 0.084 \n",
      "\n",
      "Node number 1192: 59 observations\n",
      "  predicted class=chinese   expected loss=0.1864407  P(node) =0.02410131\n",
      "    class counts:     0     0     0     0     0     0     0    48     0     0     0     0     0     0     0     0     0     0     7     0     2     0     0     0     0     0     0     0     0     0     0     0     0     2\n",
      "   probabilities: 0.000 0.000 0.000 0.000 0.000 0.000 0.000 0.814 0.000 0.000 0.000 0.000 0.000 0.000 0.000 0.000 0.000 0.000 0.119 0.000 0.034 0.000 0.000 0.000 0.000 0.000 0.000 0.000 0.000 0.000 0.000 0.000 0.000 0.034 \n",
      "\n",
      "Node number 1193: 313 observations\n",
      "  predicted class=japanese  expected loss=0.6038339  P(node) =0.1278595\n",
      "    class counts:     0     0     0     0     0     0     0    81     0     0     0     0     0     0     0     0     0     0   124     0    88     0     0     0     0     0     0     0     0     0     0     0     0    20\n",
      "   probabilities: 0.000 0.000 0.000 0.000 0.000 0.000 0.000 0.259 0.000 0.000 0.000 0.000 0.000 0.000 0.000 0.000 0.000 0.000 0.396 0.000 0.281 0.000 0.000 0.000 0.000 0.000 0.000 0.000 0.000 0.000 0.000 0.000 0.000 0.064 \n",
      "\n"
     ]
    }
   ],
   "source": [
    "## Summary of Asian tree\n",
    "summary(bamboo_tree)"
   ]
  },
  {
   "cell_type": "markdown",
   "metadata": {},
   "source": [
    "<br> \n",
    "## [olive_tree] Only European countries\n",
    "\n",
    "**Goals:**\n",
    "- create a decision tree for just European countries"
   ]
  },
  {
   "cell_type": "markdown",
   "metadata": {},
   "source": [
    "**YOUR TURN**\n",
    "\n",
    "Fit a decision tree model using the specified countries and assign it to `olive_tree`:"
   ]
  },
  {
   "cell_type": "code",
   "execution_count": 47,
   "metadata": {
    "collapsed": false
   },
   "outputs": [
    {
     "data": {
      "text/plain": [
       " [1] vietnamese              indian                  spanish_portuguese     \n",
       " [4] jewish                  french                  central_southamerican  \n",
       " [7] cajun_creole            thai                    scandinavian           \n",
       "[10] greek                   american                african                \n",
       "[13] middleeastern           easterneuropean_russian italian                \n",
       "[16] irish                   mexican                 chinese                \n",
       "[19] german                  mediterranean           japanese               \n",
       "[22] moroccan                southern_soulfood       english_scottish       \n",
       "[25] asian                   southwestern            east_asian             \n",
       "[28] western                 korean                  canada                 \n",
       "[31] caribbean               eastern-europe          uk-and-ireland         \n",
       "[34] south-america           spain                   north-african          \n",
       "[37] portugal               \n",
       "37 Levels: african american asian cajun_creole canada ... western"
      ]
     },
     "execution_count": 47,
     "metadata": {},
     "output_type": "execute_result"
    }
   ],
   "source": [
    "unique(recipes$country)"
   ]
  },
  {
   "cell_type": "code",
   "execution_count": 48,
   "metadata": {
    "collapsed": false
   },
   "outputs": [],
   "source": [
    "### ASSIGN THE MODEL TO \"olive_tree\" ###\n",
    "\n",
    "## Select subset of countries\n",
    "olive_tree <- rpart(formula = country ~ ., \n",
    "                     data = recipes[recipes$country %in% c(\"italian\", \n",
    "                                                           \"french\", \n",
    "                                                           \"german\", \n",
    "                                                           \"spanish_portuguese\",\n",
    "                                                           \"mediterranean\",\n",
    "                                                           \"scandinavian\",\n",
    "                                                           \"greek\"),],\n",
    "                     method =\"class\")\n"
   ]
  },
  {
   "cell_type": "markdown",
   "metadata": {},
   "source": [
    "Plot the decision tree, `olive_tree`:"
   ]
  },
  {
   "cell_type": "code",
   "execution_count": 49,
   "metadata": {
    "collapsed": false
   },
   "outputs": [
    {
     "data": {
      "image/png": "[encoded data removed]"
     },
     "metadata": {},
     "output_type": "display_data"
    }
   ],
   "source": [
    "# Run this\n",
    "\n",
    "## Plot the European model\n",
    "rpart.plot(olive_tree, type = 3, extra = 2, under = TRUE, cex = 0.75, varlen = 0, faclen = 0)"
   ]
  },
  {
   "cell_type": "markdown",
   "metadata": {},
   "source": [
    "Print the summary for `olive_tree`"
   ]
  },
  {
   "cell_type": "code",
   "execution_count": 50,
   "metadata": {
    "collapsed": false
   },
   "outputs": [
    {
     "name": "stdout",
     "output_type": "stream",
     "text": [
      "Call:\n",
      "rpart(formula = country ~ ., data = recipes[recipes$country %in% \n",
      "    c(\"italian\", \"french\", \"german\", \"spanish_portuguese\", \"mediterranean\", \n",
      "        \"scandinavian\", \"greek\"), ], method = \"class\")\n",
      "  n= 5858 \n",
      "\n",
      "          CP nsplit rel error    xerror       xstd\n",
      "1 0.01169479      0 1.0000000 1.0000000 0.01458523\n",
      "2 0.01000000      9 0.8880368 0.9428681 0.01448347\n",
      "\n",
      "Variable importance\n",
      "         macaroni             basil         olive_oil   parmesan_cheese \n",
      "               29                19                14                 6 \n",
      "           garlic            butter           shallot            cheese \n",
      "                5                 4                 4                 3 \n",
      "           tomato          cardamom           vinegar               egg \n",
      "                3                 2                 2                 2 \n",
      "      bell_pepper mozzarella_cheese             wheat \n",
      "                2                 1                 1 \n",
      "\n",
      "Node number 1: 5858 observations,    complexity param=0.01169479\n",
      "  predicted class=italian       expected loss=0.4452031  P(node) =1\n",
      "    class counts:     0     0     0     0     0     0     0     0     0     0     0     0  1264   289   225     0     0  3250     0     0     0   289     0     0     0     0     0   250     0     0     0     0   291\n",
      "   probabilities: 0.000 0.000 0.000 0.000 0.000 0.000 0.000 0.000 0.000 0.000 0.000 0.000 0.216 0.049 0.038 0.000 0.000 0.555 0.000 0.000 0.000 0.049 0.000 0.000 0.000 0.000 0.000 0.043 0.000 0.000 0.000 0.000 0.050 \n",
      "  left son=2 (4861 obs) right son=3 (997 obs)\n",
      "  Primary splits:\n",
      "      macaroni        splits as  LR, improve=218.1430, (0 missing)\n",
      "      parmesan_cheese splits as  RL, improve=213.1111, (0 missing)\n",
      "      basil           splits as  RL, improve=202.1053, (0 missing)\n",
      "      olive_oil       splits as  LR, improve=165.5658, (0 missing)\n",
      "      tomato          splits as  LR, improve=130.4981, (0 missing)\n",
      "  Surrogate splits:\n",
      "      cottage_cheese splits as  LR, agree=0.833, adj=0.016, (0 split)\n",
      "      broccoli       splits as  LR, agree=0.831, adj=0.009, (0 split)\n",
      "      spearmint      splits as  LR, agree=0.830, adj=0.001, (0 split)\n",
      "\n",
      "Node number 2: 4861 observations,    complexity param=0.01169479\n",
      "  predicted class=italian       expected loss=0.5206748  P(node) =0.8298054\n",
      "    class counts:     0     0     0     0     0     0     0     0     0     0     0     0  1248   285   203     0     0  2330     0     0     0   265     0     0     0     0     0   249     0     0     0     0   281\n",
      "   probabilities: 0.000 0.000 0.000 0.000 0.000 0.000 0.000 0.000 0.000 0.000 0.000 0.000 0.257 0.059 0.042 0.000 0.000 0.479 0.000 0.000 0.000 0.055 0.000 0.000 0.000 0.000 0.000 0.051 0.000 0.000 0.000 0.000 0.058 \n",
      "  left son=4 (695 obs) right son=5 (4166 obs)\n",
      "  Primary splits:\n",
      "      basil             splits as  RL, improve=138.63470, (0 missing)\n",
      "      olive_oil         splits as  LR, improve=132.68560, (0 missing)\n",
      "      parmesan_cheese   splits as  RL, improve=124.75430, (0 missing)\n",
      "      mozzarella_cheese splits as  RL, improve= 74.65351, (0 missing)\n",
      "      tomato            splits as  LR, improve= 73.68035, (0 missing)\n",
      "  Surrogate splits:\n",
      "      mozzarella_cheese splits as  RL, agree=0.867, adj=0.071, (0 split)\n",
      "      lavender          splits as  RL, agree=0.859, adj=0.017, (0 split)\n",
      "      savory            splits as  RL, agree=0.859, adj=0.012, (0 split)\n",
      "      chinese_cabbage   splits as  RL, agree=0.857, adj=0.001, (0 split)\n",
      "      nira              splits as  RL, agree=0.857, adj=0.001, (0 split)\n",
      "\n",
      "Node number 3: 997 observations\n",
      "  predicted class=italian       expected loss=0.0772317  P(node) =0.1701946\n",
      "    class counts:     0     0     0     0     0     0     0     0     0     0     0     0    16     4    22     0     0   920     0     0     0    24     0     0     0     0     0     1     0     0     0     0    10\n",
      "   probabilities: 0.000 0.000 0.000 0.000 0.000 0.000 0.000 0.000 0.000 0.000 0.000 0.000 0.016 0.004 0.022 0.000 0.000 0.923 0.000 0.000 0.000 0.024 0.000 0.000 0.000 0.000 0.000 0.001 0.000 0.000 0.000 0.000 0.010 \n",
      "\n",
      "Node number 4: 695 observations\n",
      "  predicted class=italian       expected loss=0.1496403  P(node) =0.1186412\n",
      "    class counts:     0     0     0     0     0     0     0     0     0     0     0     0    73     1     8     0     0   591     0     0     0    17     0     0     0     0     0     0     0     0     0     0     5\n",
      "   probabilities: 0.000 0.000 0.000 0.000 0.000 0.000 0.000 0.000 0.000 0.000 0.000 0.000 0.105 0.001 0.012 0.000 0.000 0.850 0.000 0.000 0.000 0.024 0.000 0.000 0.000 0.000 0.000 0.000 0.000 0.000 0.000 0.000 0.007 \n",
      "\n",
      "Node number 5: 4166 observations,    complexity param=0.01169479\n",
      "  predicted class=italian       expected loss=0.5825732  P(node) =0.7111642\n",
      "    class counts:     0     0     0     0     0     0     0     0     0     0     0     0  1175   284   195     0     0  1739     0     0     0   248     0     0     0     0     0   249     0     0     0     0   276\n",
      "   probabilities: 0.000 0.000 0.000 0.000 0.000 0.000 0.000 0.000 0.000 0.000 0.000 0.000 0.282 0.068 0.047 0.000 0.000 0.417 0.000 0.000 0.000 0.060 0.000 0.000 0.000 0.000 0.000 0.060 0.000 0.000 0.000 0.000 0.066 \n",
      "  left son=10 (2495 obs) right son=11 (1671 obs)\n",
      "  Primary splits:\n",
      "      olive_oil       splits as  LR, improve=99.99325, (0 missing)\n",
      "      parmesan_cheese splits as  RL, improve=93.28721, (0 missing)\n",
      "      butter          splits as  RL, improve=51.62763, (0 missing)\n",
      "      feta_cheese     splits as  RL, improve=39.38068, (0 missing)\n",
      "      cream           splits as  RL, improve=33.52331, (0 missing)\n",
      "  Surrogate splits:\n",
      "      garlic      splits as  LR, agree=0.740, adj=0.352, (0 split)\n",
      "      tomato      splits as  LR, agree=0.675, adj=0.191, (0 split)\n",
      "      bell_pepper splits as  LR, agree=0.652, adj=0.132, (0 split)\n",
      "      egg         splits as  RL, agree=0.651, adj=0.129, (0 split)\n",
      "      butter      splits as  RL, agree=0.648, adj=0.123, (0 split)\n",
      "\n",
      "Node number 10: 2495 observations,    complexity param=0.01169479\n",
      "  predicted class=french        expected loss=0.6420842  P(node) =0.4259133\n",
      "    class counts:     0     0     0     0     0     0     0     0     0     0     0     0   893   278    49     0     0   873     0     0     0    58     0     0     0     0     0   238     0     0     0     0   106\n",
      "   probabilities: 0.000 0.000 0.000 0.000 0.000 0.000 0.000 0.000 0.000 0.000 0.000 0.000 0.358 0.111 0.020 0.000 0.000 0.350 0.000 0.000 0.000 0.023 0.000 0.000 0.000 0.000 0.000 0.095 0.000 0.000 0.000 0.000 0.042 \n",
      "  left son=20 (174 obs) right son=21 (2321 obs)\n",
      "  Primary splits:\n",
      "      parmesan_cheese splits as  RL, improve=43.18381, (0 missing)\n",
      "      shallot         splits as  RL, improve=30.00473, (0 missing)\n",
      "      cheese          splits as  LR, improve=24.08869, (0 missing)\n",
      "      thyme           splits as  RL, improve=21.07688, (0 missing)\n",
      "      cardamom        splits as  LR, improve=18.74623, (0 missing)\n",
      "  Surrogate splits:\n",
      "      brassica    splits as  RL, agree=0.931, adj=0.006, (0 split)\n",
      "      catfish     splits as  RL, agree=0.931, adj=0.006, (0 split)\n",
      "      cauliflower splits as  RL, agree=0.931, adj=0.006, (0 split)\n",
      "\n",
      "Node number 11: 1671 observations\n",
      "  predicted class=italian       expected loss=0.4817475  P(node) =0.2852509\n",
      "    class counts:     0     0     0     0     0     0     0     0     0     0     0     0   282     6   146     0     0   866     0     0     0   190     0     0     0     0     0    11     0     0     0     0   170\n",
      "   probabilities: 0.000 0.000 0.000 0.000 0.000 0.000 0.000 0.000 0.000 0.000 0.000 0.000 0.169 0.004 0.087 0.000 0.000 0.518 0.000 0.000 0.000 0.114 0.000 0.000 0.000 0.000 0.000 0.007 0.000 0.000 0.000 0.000 0.102 \n",
      "\n",
      "Node number 20: 174 observations\n",
      "  predicted class=italian       expected loss=0.2241379  P(node) =0.02970297\n",
      "    class counts:     0     0     0     0     0     0     0     0     0     0     0     0    33     2     1     0     0   135     0     0     0     3     0     0     0     0     0     0     0     0     0     0     0\n",
      "   probabilities: 0.000 0.000 0.000 0.000 0.000 0.000 0.000 0.000 0.000 0.000 0.000 0.000 0.190 0.011 0.006 0.000 0.000 0.776 0.000 0.000 0.000 0.017 0.000 0.000 0.000 0.000 0.000 0.000 0.000 0.000 0.000 0.000 0.000 \n",
      "\n",
      "Node number 21: 2321 observations,    complexity param=0.01169479\n",
      "  predicted class=french        expected loss=0.6294701  P(node) =0.3962103\n",
      "    class counts:     0     0     0     0     0     0     0     0     0     0     0     0   860   276    48     0     0   738     0     0     0    55     0     0     0     0     0   238     0     0     0     0   106\n",
      "   probabilities: 0.000 0.000 0.000 0.000 0.000 0.000 0.000 0.000 0.000 0.000 0.000 0.000 0.371 0.119 0.021 0.000 0.000 0.318 0.000 0.000 0.000 0.024 0.000 0.000 0.000 0.000 0.000 0.103 0.000 0.000 0.000 0.000 0.046 \n",
      "  left son=42 (99 obs) right son=43 (2222 obs)\n",
      "  Primary splits:\n",
      "      shallot  splits as  RL, improve=28.79725, (0 missing)\n",
      "      cheese   splits as  LR, improve=23.75113, (0 missing)\n",
      "      thyme    splits as  RL, improve=21.14716, (0 missing)\n",
      "      butter   splits as  RL, improve=20.03458, (0 missing)\n",
      "      cardamom splits as  LR, improve=18.08909, (0 missing)\n",
      "  Surrogate splits:\n",
      "      barley        splits as  RL, agree=0.958, adj=0.01, (0 split)\n",
      "      bone_oil      splits as  RL, agree=0.958, adj=0.01, (0 split)\n",
      "      mandarin_peel splits as  RL, agree=0.958, adj=0.01, (0 split)\n",
      "\n",
      "Node number 42: 99 observations\n",
      "  predicted class=french        expected loss=0.1616162  P(node) =0.01689997\n",
      "    class counts:     0     0     0     0     0     0     0     0     0     0     0     0    83     1     0     0     0    12     0     0     0     0     0     0     0     0     0     2     0     0     0     0     1\n",
      "   probabilities: 0.000 0.000 0.000 0.000 0.000 0.000 0.000 0.000 0.000 0.000 0.000 0.000 0.838 0.010 0.000 0.000 0.000 0.121 0.000 0.000 0.000 0.000 0.000 0.000 0.000 0.000 0.000 0.020 0.000 0.000 0.000 0.000 0.010 \n",
      "\n",
      "Node number 43: 2222 observations,    complexity param=0.01169479\n",
      "  predicted class=french        expected loss=0.650315  P(node) =0.3793103\n",
      "    class counts:     0     0     0     0     0     0     0     0     0     0     0     0   777   275    48     0     0   726     0     0     0    55     0     0     0     0     0   236     0     0     0     0   105\n",
      "   probabilities: 0.000 0.000 0.000 0.000 0.000 0.000 0.000 0.000 0.000 0.000 0.000 0.000 0.350 0.124 0.022 0.000 0.000 0.327 0.000 0.000 0.000 0.025 0.000 0.000 0.000 0.000 0.000 0.106 0.000 0.000 0.000 0.000 0.047 \n",
      "  left son=86 (2034 obs) right son=87 (188 obs)\n",
      "  Primary splits:\n",
      "      cheese     splits as  LR, improve=23.45161, (0 missing)\n",
      "      cardamom   splits as  LR, improve=17.51352, (0 missing)\n",
      "      vinegar    splits as  LR, improve=17.03474, (0 missing)\n",
      "      butter     splits as  RL, improve=17.02068, (0 missing)\n",
      "      sauerkraut splits as  RL, improve=15.97253, (0 missing)\n",
      "  Surrogate splits:\n",
      "      buttermilk     splits as  LR, agree=0.919, adj=0.037, (0 split)\n",
      "      gruyere_cheese splits as  LR, agree=0.916, adj=0.005, (0 split)\n",
      "      quince         splits as  LR, agree=0.916, adj=0.005, (0 split)\n",
      "\n",
      "Node number 86: 2034 observations,    complexity param=0.01169479\n",
      "  predicted class=french        expected loss=0.6415929  P(node) =0.3472175\n",
      "    class counts:     0     0     0     0     0     0     0     0     0     0     0     0   729   270    47     0     0   609     0     0     0    51     0     0     0     0     0   233     0     0     0     0    95\n",
      "   probabilities: 0.000 0.000 0.000 0.000 0.000 0.000 0.000 0.000 0.000 0.000 0.000 0.000 0.358 0.133 0.023 0.000 0.000 0.299 0.000 0.000 0.000 0.025 0.000 0.000 0.000 0.000 0.000 0.115 0.000 0.000 0.000 0.000 0.047 \n",
      "  left son=172 (1984 obs) right son=173 (50 obs)\n",
      "  Primary splits:\n",
      "      cardamom   splits as  LR, improve=17.33534, (0 missing)\n",
      "      vinegar    splits as  LR, improve=16.40394, (0 missing)\n",
      "      butter     splits as  RL, improve=16.07105, (0 missing)\n",
      "      sauerkraut splits as  RL, improve=15.39048, (0 missing)\n",
      "      cream      splits as  RL, improve=14.40966, (0 missing)\n",
      "  Surrogate splits:\n",
      "      lime_peel_oil splits as  LR, agree=0.976, adj=0.02, (0 split)\n",
      "      port_wine     splits as  LR, agree=0.976, adj=0.02, (0 split)\n",
      "      sesame_oil    splits as  LR, agree=0.976, adj=0.02, (0 split)\n",
      "\n",
      "Node number 87: 188 observations\n",
      "  predicted class=italian       expected loss=0.3776596  P(node) =0.03209286\n",
      "    class counts:     0     0     0     0     0     0     0     0     0     0     0     0    48     5     1     0     0   117     0     0     0     4     0     0     0     0     0     3     0     0     0     0    10\n",
      "   probabilities: 0.000 0.000 0.000 0.000 0.000 0.000 0.000 0.000 0.000 0.000 0.000 0.000 0.255 0.027 0.005 0.000 0.000 0.622 0.000 0.000 0.000 0.021 0.000 0.000 0.000 0.000 0.000 0.016 0.000 0.000 0.000 0.000 0.053 \n",
      "\n",
      "Node number 172: 1984 observations,    complexity param=0.01169479\n",
      "  predicted class=french        expected loss=0.6350806  P(node) =0.3386821\n",
      "    class counts:     0     0     0     0     0     0     0     0     0     0     0     0   724   262    46     0     0   603     0     0     0    51     0     0     0     0     0   203     0     0     0     0    95\n",
      "   probabilities: 0.000 0.000 0.000 0.000 0.000 0.000 0.000 0.000 0.000 0.000 0.000 0.000 0.365 0.132 0.023 0.000 0.000 0.304 0.000 0.000 0.000 0.026 0.000 0.000 0.000 0.000 0.000 0.102 0.000 0.000 0.000 0.000 0.048 \n",
      "  left son=344 (1806 obs) right son=345 (178 obs)\n",
      "  Primary splits:\n",
      "      vinegar    splits as  LR, improve=17.18127, (0 missing)\n",
      "      butter     splits as  RL, improve=15.86436, (0 missing)\n",
      "      sauerkraut splits as  RL, improve=15.48560, (0 missing)\n",
      "      dill       splits as  LR, improve=14.46581, (0 missing)\n",
      "      cream      splits as  RL, improve=14.33668, (0 missing)\n",
      "  Surrogate splits:\n",
      "      cider      splits as  LR, agree=0.922, adj=0.135, (0 split)\n",
      "      tamarind   splits as  LR, agree=0.922, adj=0.129, (0 split)\n",
      "      celery_oil splits as  LR, agree=0.917, adj=0.073, (0 split)\n",
      "      herring    splits as  LR, agree=0.913, adj=0.028, (0 split)\n",
      "      beet       splits as  LR, agree=0.912, adj=0.022, (0 split)\n",
      "\n",
      "Node number 173: 50 observations\n",
      "  predicted class=scandinavian  expected loss=0.4  P(node) =0.008535336\n",
      "    class counts:     0     0     0     0     0     0     0     0     0     0     0     0     5     8     1     0     0     6     0     0     0     0     0     0     0     0     0    30     0     0     0     0     0\n",
      "   probabilities: 0.000 0.000 0.000 0.000 0.000 0.000 0.000 0.000 0.000 0.000 0.000 0.000 0.100 0.160 0.020 0.000 0.000 0.120 0.000 0.000 0.000 0.000 0.000 0.000 0.000 0.000 0.000 0.600 0.000 0.000 0.000 0.000 0.000 \n",
      "\n",
      "Node number 344: 1806 observations,    complexity param=0.01169479\n",
      "  predicted class=french        expected loss=0.6273533  P(node) =0.3082963\n",
      "    class counts:     0     0     0     0     0     0     0     0     0     0     0     0   673   204    45     0     0   583     0     0     0    49     0     0     0     0     0   171     0     0     0     0    81\n",
      "   probabilities: 0.000 0.000 0.000 0.000 0.000 0.000 0.000 0.000 0.000 0.000 0.000 0.000 0.373 0.113 0.025 0.000 0.000 0.323 0.000 0.000 0.000 0.027 0.000 0.000 0.000 0.000 0.000 0.095 0.000 0.000 0.000 0.000 0.045 \n",
      "  left son=688 (951 obs) right son=689 (855 obs)\n",
      "  Primary splits:\n",
      "      butter     splits as  RL, improve=17.39636, (0 missing)\n",
      "      cream      splits as  RL, improve=14.87226, (0 missing)\n",
      "      sauerkraut splits as  RL, improve=13.49047, (0 missing)\n",
      "      thyme      splits as  RL, improve=12.06318, (0 missing)\n",
      "      rye_flour  splits as  LR, improve=11.88599, (0 missing)\n",
      "  Surrogate splits:\n",
      "      wheat         splits as  RL, agree=0.724, adj=0.418, (0 split)\n",
      "      egg           splits as  RL, agree=0.606, adj=0.167, (0 split)\n",
      "      vegetable_oil splits as  LR, agree=0.561, adj=0.074, (0 split)\n",
      "      garlic        splits as  LR, agree=0.552, adj=0.054, (0 split)\n",
      "      tomato        splits as  LR, agree=0.550, adj=0.050, (0 split)\n",
      "\n",
      "Node number 345: 178 observations\n",
      "  predicted class=german        expected loss=0.6741573  P(node) =0.0303858\n",
      "    class counts:     0     0     0     0     0     0     0     0     0     0     0     0    51    58     1     0     0    20     0     0     0     2     0     0     0     0     0    32     0     0     0     0    14\n",
      "   probabilities: 0.000 0.000 0.000 0.000 0.000 0.000 0.000 0.000 0.000 0.000 0.000 0.000 0.287 0.326 0.006 0.000 0.000 0.112 0.000 0.000 0.000 0.011 0.000 0.000 0.000 0.000 0.000 0.180 0.000 0.000 0.000 0.000 0.079 \n",
      "\n",
      "Node number 688: 951 observations\n",
      "  predicted class=french        expected loss=0.5720294  P(node) =0.1623421\n",
      "    class counts:     0     0     0     0     0     0     0     0     0     0     0     0   407   109    22     0     0   248     0     0     0    17     0     0     0     0     0   124     0     0     0     0    24\n",
      "   probabilities: 0.000 0.000 0.000 0.000 0.000 0.000 0.000 0.000 0.000 0.000 0.000 0.000 0.428 0.115 0.023 0.000 0.000 0.261 0.000 0.000 0.000 0.018 0.000 0.000 0.000 0.000 0.000 0.130 0.000 0.000 0.000 0.000 0.025 \n",
      "\n",
      "Node number 689: 855 observations\n",
      "  predicted class=italian       expected loss=0.6081871  P(node) =0.1459543\n",
      "    class counts:     0     0     0     0     0     0     0     0     0     0     0     0   266    95    23     0     0   335     0     0     0    32     0     0     0     0     0    47     0     0     0     0    57\n",
      "   probabilities: 0.000 0.000 0.000 0.000 0.000 0.000 0.000 0.000 0.000 0.000 0.000 0.000 0.311 0.111 0.027 0.000 0.000 0.392 0.000 0.000 0.000 0.037 0.000 0.000 0.000 0.000 0.000 0.055 0.000 0.000 0.000 0.000 0.067 \n",
      "\n"
     ]
    }
   ],
   "source": [
    "## Summary of European tree\n",
    "summary(olive_tree)"
   ]
  },
  {
   "cell_type": "markdown",
   "metadata": {},
   "source": [
    "<br>\n",
    "<hr>\n",
    "# 4. Evaluating our model(s)\n",
    "\n",
    "**Goals:**\n",
    "- split data into training and testing dataset\n",
    "- train the model on the training dataset\n",
    "- use the testing dataset (without country labels) to see how the model classifies the unlabeled recipes"
   ]
  },
  {
   "cell_type": "markdown",
   "metadata": {},
   "source": [
    "**Let's limit our dataset to East Asian cuisines (+ Indian).**\n",
    "\n",
    "Assign the new dataframe to `bamboo`:"
   ]
  },
  {
   "cell_type": "code",
   "execution_count": 51,
   "metadata": {
    "collapsed": false
   },
   "outputs": [],
   "source": [
    "### ASSIGN THE SUBSETTED DATAFRAME TO \"bamboo\" ###\n",
    "\n",
    "## Reduce the recipes dataset into East Asian + Indian only\n",
    "bamboo <- recipes[recipes$country %in% c(\"korean\", \"japanese\", \"chinese\",\n",
    "                                              \"thai\", \"indian\"),]"
   ]
  },
  {
   "cell_type": "markdown",
   "metadata": {},
   "source": [
    "#### How many recipes are there for each cuisine?"
   ]
  },
  {
   "cell_type": "code",
   "execution_count": 52,
   "metadata": {
    "collapsed": false
   },
   "outputs": [
    {
     "data": {
      "text/plain": [
       "\n",
       " chinese   indian japanese   korean     thai \n",
       "     442      598      320      799      289 "
      ]
     },
     "execution_count": 52,
     "metadata": {},
     "output_type": "execute_result"
    }
   ],
   "source": [
    "table(as.factor(as.character(bamboo$country)))"
   ]
  },
  {
   "cell_type": "markdown",
   "metadata": {},
   "source": [
    "#### Let's remove 30 recipes from each cuisine to use as the test dataset, \"bamboo_test\""
   ]
  },
  {
   "cell_type": "markdown",
   "metadata": {},
   "source": [
    "Set the sample size, `sample_n`, to 30:"
   ]
  },
  {
   "cell_type": "code",
   "execution_count": 53,
   "metadata": {
    "collapsed": false
   },
   "outputs": [],
   "source": [
    "# Run this\n",
    "\n",
    "## Set sample size\n",
    "sample_n <- 30"
   ]
  },
  {
   "cell_type": "markdown",
   "metadata": {},
   "source": [
    "Create a dataframe containing 30 recipes from each cuisine, selected randomly:"
   ]
  },
  {
   "cell_type": "code",
   "execution_count": 54,
   "metadata": {
    "collapsed": false
   },
   "outputs": [],
   "source": [
    "#Run this\n",
    "\n",
    "## Take n recipes from each country\n",
    "set.seed(4) #Set random seed\n",
    "korean <- bamboo[sample(which(bamboo$country == \"korean\") , sample_n), ]\n",
    "japanese <- bamboo[sample(which(bamboo$country == \"japanese\") , sample_n), ]\n",
    "chinese <- bamboo[sample(which(bamboo$country == \"chinese\") , sample_n), ]\n",
    "thai <- bamboo[sample(which(bamboo$country == \"thai\") , sample_n), ]\n",
    "indian <- bamboo[sample(which(bamboo$country == \"indian\") , sample_n), ]\n",
    "\n",
    "#Create the dataframe\n",
    "bamboo_test <- rbind(korean,japanese, chinese, thai, indian)"
   ]
  },
  {
   "cell_type": "markdown",
   "metadata": {},
   "source": [
    "Check that there are 30 recipes for each cuisine:"
   ]
  },
  {
   "cell_type": "code",
   "execution_count": 55,
   "metadata": {
    "collapsed": false
   },
   "outputs": [
    {
     "data": {
      "text/plain": [
       "\n",
       " chinese   indian japanese   korean     thai \n",
       "      30       30       30       30       30 "
      ]
     },
     "execution_count": 55,
     "metadata": {},
     "output_type": "execute_result"
    }
   ],
   "source": [
    "# Run this\n",
    "\n",
    "## Check that we have 30 recipes from each cuisine\n",
    "table(as.factor(as.character(bamboo_test$country)))"
   ]
  },
  {
   "cell_type": "markdown",
   "metadata": {},
   "source": [
    "#### Next, let's create the training set by removing the test set from the original dataset (`bamboo`)"
   ]
  },
  {
   "cell_type": "code",
   "execution_count": 56,
   "metadata": {
    "collapsed": false
   },
   "outputs": [],
   "source": [
    "# Run this\n",
    "\n",
    "## Create the training dataset (remove test set from original bamboo dataset)\n",
    "bamboo_train <- bamboo[!(rownames(bamboo) %in% rownames(bamboo_test)),]"
   ]
  },
  {
   "cell_type": "markdown",
   "metadata": {},
   "source": [
    "Check that there are 30 _fewer_ recipes now for each cuisine:"
   ]
  },
  {
   "cell_type": "code",
   "execution_count": 57,
   "metadata": {
    "collapsed": false
   },
   "outputs": [
    {
     "data": {
      "text/plain": [
       "\n",
       " chinese   indian japanese   korean     thai \n",
       "     412      568      290      769      259 "
      ]
     },
     "execution_count": 57,
     "metadata": {},
     "output_type": "execute_result"
    }
   ],
   "source": [
    "# Run this\n",
    "\n",
    "## Check that we have subtracted 30 recipes from each cuisine\n",
    "table(as.factor(as.character(bamboo_train$country)))"
   ]
  },
  {
   "cell_type": "markdown",
   "metadata": {},
   "source": [
    "\n",
    "### Train a decision tree model (`bamboo_tree_pred`) on `bamboo_train`"
   ]
  },
  {
   "cell_type": "code",
   "execution_count": 58,
   "metadata": {
    "collapsed": false
   },
   "outputs": [],
   "source": [
    "#Run this\n",
    "\n",
    "#Train on the bamboo_train data\n",
    "bamboo_tree_pred <- rpart(formula = country ~ ., \n",
    "                     data = bamboo_train[bamboo_train$country %in% c(\"korean\", \n",
    "                                                           \"japanese\", \n",
    "                                                           \"chinese\", \n",
    "                                                           \"thai\",\n",
    "                                                           \"indian\"),], \n",
    "                     method =\"class\")"
   ]
  },
  {
   "cell_type": "markdown",
   "metadata": {},
   "source": [
    "#### Plot the decision tree based on bamboo_train:"
   ]
  },
  {
   "cell_type": "code",
   "execution_count": 59,
   "metadata": {
    "collapsed": false
   },
   "outputs": [
    {
     "data": {
      "image/png": "[encoded data removed]"
     },
     "metadata": {},
     "output_type": "display_data"
    }
   ],
   "source": [
    "#Run this\n",
    "\n",
    "#Plot the trained tree\n",
    "rpart.plot(bamboo_tree_pred, type = 3, extra = 2, under = TRUE, \n",
    "           cex = 0.75, varlen = 0, faclen = 0)"
   ]
  },
  {
   "cell_type": "markdown",
   "metadata": {},
   "source": [
    "(Small changes in the dataset can cause major changes in the decision tree.)\n",
    "\n",
    "#### Use `bamboo_tree_pred` to predict the cuisines on `bamboo_test`:"
   ]
  },
  {
   "cell_type": "code",
   "execution_count": 60,
   "metadata": {
    "collapsed": false
   },
   "outputs": [],
   "source": [
    "#Run this\n",
    "\n",
    "bamboo_fit <- predict(bamboo_tree_pred, subset(bamboo_test, select=-c(country)), type = \"class\")"
   ]
  },
  {
   "cell_type": "markdown",
   "metadata": {},
   "source": [
    "#### Create a confusion matrix:\n",
    "- compare the predictions (from the model) with the actual cuisine labels (from the recipes)"
   ]
  },
  {
   "cell_type": "code",
   "execution_count": 61,
   "metadata": {
    "collapsed": false
   },
   "outputs": [
    {
     "data": {
      "text/plain": [
       "               \n",
       "                chinese_true indian_true japanese_true korean_true thai_true\n",
       "  chinese_pred            18           0             6           2         1\n",
       "  indian_pred              0          27             1           0         6\n",
       "  japanese_pred            1           0            10           5         0\n",
       "  korean_pred             11           3            12          23        10\n",
       "  thai_pred                0           0             1           0        13"
      ]
     },
     "execution_count": 61,
     "metadata": {},
     "output_type": "execute_result"
    }
   ],
   "source": [
    "#Run this\n",
    "\n",
    "bamboo_tab <- table(paste(as.character(bamboo_fit),\"_pred\", sep =\"\"), \n",
    "                    paste(as.character(bamboo_test$country),\"_true\", sep =\"\"))\n",
    "bamboo_tab"
   ]
  },
  {
   "cell_type": "markdown",
   "metadata": {},
   "source": [
    "#### Convert table to percentages (proportion table)\n",
    "- sum to 100% _COLUMN_-wise"
   ]
  },
  {
   "cell_type": "code",
   "execution_count": 62,
   "metadata": {
    "collapsed": false
   },
   "outputs": [
    {
     "data": {
      "text/plain": [
       "               \n",
       "                chinese_true indian_true japanese_true korean_true thai_true\n",
       "  chinese_pred          60.0         0.0          20.0         6.7       3.3\n",
       "  indian_pred            0.0        90.0           3.3         0.0      20.0\n",
       "  japanese_pred          3.3         0.0          33.3        16.7       0.0\n",
       "  korean_pred           36.7        10.0          40.0        76.7      33.3\n",
       "  thai_pred              0.0         0.0           3.3         0.0      43.3"
      ]
     },
     "execution_count": 62,
     "metadata": {},
     "output_type": "execute_result"
    }
   ],
   "source": [
    "#Run this\n",
    "\n",
    "round(prop.table(bamboo_tab,2)*100,1)"
   ]
  },
  {
   "cell_type": "markdown",
   "metadata": {},
   "source": [
    "#### Intrepreting the table:\n",
    "- each column is the actual recipe's label (from the website)\n",
    "- each value represents the percentage of country X's recipes correctly labeled as country X\n",
    "- _Example: 60.3% of the Chinese recipes were correctly predicted as \"Chinese\", \n",
    "incorrectly predicted 36.7% of the time as \"Korean\", and incorrectly predicted 3.3% of the time as \"Japanese\"_\n",
    "\n",
    "#### Discussion:\n",
    "- Which cuisines were likely to be mis-classified or correctly classified?\n",
    "- Which cuisines seem to be mistaken for which other cuisines?"
   ]
  },
  {
   "cell_type": "markdown",
   "metadata": {},
   "source": [
    "<br>\n",
    "<hr>\n",
    "## 5. Predict the cuisine of your own recipe, \"`my_recipe`\""
   ]
  },
  {
   "cell_type": "markdown",
   "metadata": {},
   "source": [
    "Initialize some things..."
   ]
  },
  {
   "cell_type": "code",
   "execution_count": 63,
   "metadata": {
    "collapsed": false
   },
   "outputs": [],
   "source": [
    "#Creates an empty recipe, \"my_recipe\"\n",
    "my_recipe <- recipes[1,]\n",
    "my_recipe[my_recipe[1,]== \"Yes\"] <- \"No\"\n",
    "my_recipe$country <- NULL\n",
    "\n"
   ]
  },
  {
   "cell_type": "code",
   "execution_count": 64,
   "metadata": {
    "collapsed": false
   },
   "outputs": [],
   "source": [
    "#Function to find an ingredient \n",
    "ing_find <- function(ing){\n",
    "    if(length(grep(tolower(ing),names(recipes), value = TRUE)) > 0){\n",
    "        grep(tolower(ing),names(recipes), value = TRUE)\n",
    "        }\n",
    "    else{paste(ing,\"was not found.\")}\n",
    "    }\n",
    "\n",
    "#Function to predict using the bamboo_tree_pred model, by default\n",
    "recipe_predict <- function(inputrecipe, model = bamboo_tree_pred){\n",
    "    p <- as.character(predict(model, inputrecipe, type = \"class\"))\n",
    "    paste(\"Hmm... your recipe tastes rather...\", toupper(p))\n",
    "}"
   ]
  },
  {
   "cell_type": "markdown",
   "metadata": {},
   "source": [
    "### Check your ingredient names:\n",
    "First, check that your ingredient exists in the list of ingredients:"
   ]
  },
  {
   "cell_type": "code",
   "execution_count": 65,
   "metadata": {
    "collapsed": false
   },
   "outputs": [
    {
     "data": {
      "text/plain": [
       "[1] \"wasabi\""
      ]
     },
     "execution_count": 65,
     "metadata": {},
     "output_type": "execute_result"
    },
    {
     "data": {
      "text/plain": [
       "[1] \"black_tea\"   \"green_tea\"   \"jasmine_tea\" \"tea\"        "
      ]
     },
     "execution_count": 65,
     "metadata": {},
     "output_type": "execute_result"
    }
   ],
   "source": [
    "# Example: \n",
    "ing_find(\"wasabi\")\n",
    "ing_find(\"tea\")\n",
    "\n",
    "### YOUR CODE BELOW ###\n"
   ]
  },
  {
   "cell_type": "markdown",
   "metadata": {},
   "source": [
    "### Add the ingredient to my_recipe:\n",
    "Add each ingredient by change their value to \"Yes\":"
   ]
  },
  {
   "cell_type": "code",
   "execution_count": 66,
   "metadata": {
    "collapsed": true
   },
   "outputs": [],
   "source": [
    "#Creates an empty recipe, \"my_recipe\"\n",
    "my_recipe <- recipes[1,]\n",
    "my_recipe[my_recipe[1,]== \"Yes\"] <- \"No\"\n",
    "my_recipe$country <- NULL\n",
    "\n",
    "### YOUR CODE BELOW ###\n",
    "my_recipe$rice <- \"Yes\"\n",
    "my_recipe$wasabi <- \"Yes\"\n",
    "my_recipe$soy_sauce <- \"Yes\""
   ]
  },
  {
   "cell_type": "markdown",
   "metadata": {},
   "source": [
    "### Predict which cuisine \"`my_recipe`\" belongs to:"
   ]
  },
  {
   "cell_type": "markdown",
   "metadata": {},
   "source": [
    "Run the code as is:"
   ]
  },
  {
   "cell_type": "code",
   "execution_count": 67,
   "metadata": {
    "collapsed": false
   },
   "outputs": [
    {
     "data": {
      "text/plain": [
       "[1] \"Hmm... your recipe tastes rather... JAPANESE\""
      ]
     },
     "execution_count": 67,
     "metadata": {},
     "output_type": "execute_result"
    }
   ],
   "source": [
    "# Run this:\n",
    "\n",
    "recipe_predict(my_recipe, model = bamboo_tree) #or olive_tree"
   ]
  },
  {
   "cell_type": "markdown",
   "metadata": {},
   "source": [
    "<br>\n",
    "<hr>"
   ]
  },
  {
   "cell_type": "markdown",
   "metadata": {},
   "source": [
    "<hr>\n",
    "**References**  \n",
    "Recipes dataset adapted from: \n",
    "- [Ahn, Yong-Yeol, et al. \"Flavor network and the principles of food pairing.\" Scientific reports 1 (2011).](http://yongyeol.com/papers/ahn-flavornet-2011.pdf)\n",
    "- ^ Dataset on ingredient-compounds also available"
   ]
  }
 ],
 "metadata": {
  "kernelspec": {
   "display_name": "R",
   "language": "",
   "name": "ir"
  },
  "language_info": {
   "codemirror_mode": "r",
   "file_extension": ".r",
   "mimetype": "text/x-r-source",
   "name": "R",
   "pygments_lexer": "r"
  },
  "widgets": {
   "state": {},
   "version": "1.1.2"
  }
 },
 "nbformat": 4,
 "nbformat_minor": 0
}
