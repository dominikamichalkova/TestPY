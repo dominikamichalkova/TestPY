{
 "cells": [
  {
   "cell_type": "markdown",
   "metadata": {},
   "source": [
    "### Run this to get the data now"
   ]
  },
  {
   "cell_type": "code",
   "execution_count": null,
   "metadata": {
    "collapsed": false
   },
   "outputs": [],
   "source": [
    "#Click here and press Shift+Enter\n",
    "download.file(\"https://ibm.box.com/shared/static/5wah9atr5o1akuuavl2z9tkjzdinr1lv.csv\",\n",
    "              destfile = \"/resources/data/recipes.csv\", quiet = TRUE)\n",
    "\n",
    "## Install libraries if not installed\n",
    "if(\"rpart\" %in% rownames(installed.packages()) == FALSE) {install.packages(\"rpart\", \n",
    "    repo = \"http://mirror.las.iastate.edu/CRAN/\")}\n",
    "if(\"rpart.plot\" %in% rownames(installed.packages()) == FALSE) {install.packages(\"rpart.plot\", \n",
    "    repo = \"http://mirror.las.iastate.edu/CRAN/\")}\n",
    "\n",
    "print(\"Done\") #Takes about 30 seconds"
   ]
  },
  {
   "cell_type": "markdown",
   "metadata": {},
   "source": [
    "<hr>"
   ]
  },
  {
   "cell_type": "markdown",
   "metadata": {},
   "source": [
    "<a href=\"https://www.bigdatauniversity.com\"><img src = \"https://ibm.box.com/shared/static/wbqvbi6o6ip0vz55ua5gp17g4f1k7ve9.png\" width = 400> </a>\n",
    "\n",
    "\n",
    "<h1 align=center> Data Science Methodology</h1>\n",
    "<h1 align=center> With Decision Trees and Clustering</h1>\n",
    "<h4 align=center><a href = \"https://ca.linkedin.com/in/polonglin\">Polong Lin</a></h4>\n"
   ]
  },
  {
   "cell_type": "markdown",
   "metadata": {},
   "source": [
    "### Table of contents:\n",
    "\n",
    "1. Import `recipes.csv` into R.\n",
    "2. Data understanding & data preparation\n",
    "    - what does the data look like?\n",
    "        - look at the data\n",
    "    - what can we tell about the data?\n",
    "        - summarize, visualize it\n",
    "    - is the data clean? if not?\n",
    "        - clean the data (i.e., inconsistent country names)\n",
    "    - which cuisines are most similar to each other? (k-means clustering)\n",
    "\n",
    "<hr>"
   ]
  },
  {
   "cell_type": "markdown",
   "metadata": {},
   "source": []
  },
  {
   "cell_type": "markdown",
   "metadata": {},
   "source": [
    "<hr>"
   ]
  },
  {
   "cell_type": "markdown",
   "metadata": {},
   "source": [
    "### Using this notebook:\n",
    "\n",
    "**Shift + Enter** to run a cell:"
   ]
  },
  {
   "cell_type": "code",
   "execution_count": null,
   "metadata": {
    "collapsed": false
   },
   "outputs": [],
   "source": [
    "# Check R version\n",
    "R.Version()$version.string"
   ]
  },
  {
   "cell_type": "markdown",
   "metadata": {},
   "source": [
    "<hr>"
   ]
  },
  {
   "cell_type": "markdown",
   "metadata": {},
   "source": [
    "## 1. Import recipes.csv into R."
   ]
  },
  {
   "cell_type": "markdown",
   "metadata": {},
   "source": [
    "**Note**: If you'd like to download the data to your own computer (optional), you can access the file here: \n",
    "> **`recipes.csv`** (64.2 MB)  \n",
    "> http://bit.ly/recipesdata"
   ]
  },
  {
   "cell_type": "markdown",
   "metadata": {},
   "source": [
    "Run the cell using Shift + Enter"
   ]
  },
  {
   "cell_type": "code",
   "execution_count": null,
   "metadata": {
    "collapsed": false
   },
   "outputs": [],
   "source": [
    "recipes <- read.csv(\"/resources/data/recipes.csv\") #takes 10 sec"
   ]
  },
  {
   "cell_type": "markdown",
   "metadata": {},
   "source": [
    "**Tip**: To create a new code cell, in the top menu, go to *Insert* -> *Insert Cell Below*."
   ]
  },
  {
   "cell_type": "markdown",
   "metadata": {},
   "source": [
    "<hr>"
   ]
  },
  {
   "cell_type": "markdown",
   "metadata": {},
   "source": [
    "<h1 align = center> 2. Data understanding & preparation </h1>\n",
    "<br>\n",
    "<br>\n",
    "<img src = https://ibm.box.com/shared/static/ctv4qau0q7ny0af4jp8mwi50l8fehmsz. width = 600>"
   ]
  },
  {
   "cell_type": "markdown",
   "metadata": {},
   "source": [
    "### Show the first few rows"
   ]
  },
  {
   "cell_type": "code",
   "execution_count": null,
   "metadata": {
    "collapsed": false
   },
   "outputs": [],
   "source": [
    "head(recipes)"
   ]
  },
  {
   "cell_type": "markdown",
   "metadata": {},
   "source": [
    "#### How many rows, columns in total?"
   ]
  },
  {
   "cell_type": "code",
   "execution_count": null,
   "metadata": {
    "collapsed": false
   },
   "outputs": [],
   "source": [
    "nrow(recipes)"
   ]
  },
  {
   "cell_type": "code",
   "execution_count": null,
   "metadata": {
    "collapsed": false
   },
   "outputs": [],
   "source": [
    "ncol(recipes)"
   ]
  },
  {
   "cell_type": "markdown",
   "metadata": {},
   "source": [
    "### The ingredients in sushi\n",
    "\n",
    "To make sushi you need:\n",
    "- rice\n",
    "- soy sauce\n",
    "- wasabi\n",
    "- some fish/vegetables"
   ]
  },
  {
   "cell_type": "markdown",
   "metadata": {},
   "source": [
    "Let's check that these ingredients exist in our dataframe:"
   ]
  },
  {
   "cell_type": "code",
   "execution_count": null,
   "metadata": {
    "collapsed": false
   },
   "outputs": [],
   "source": [
    "grep(\"rice\", names(recipes), value = TRUE) #Yes as rice\n",
    "grep(\"wasabi\", names(recipes), value = TRUE) #Yes\n",
    "grep(\"soy\", names(recipes), value = TRUE) #Yes as soy_sauce"
   ]
  },
  {
   "cell_type": "markdown",
   "metadata": {},
   "source": [
    "Yes, they do!\n",
    "So maybe... if a recipe contains all three (rice, wasabi, soy_sauce), then it might be for sushi, which might make it Japanese! Let's keep this in mind!"
   ]
  },
  {
   "cell_type": "markdown",
   "metadata": {},
   "source": [
    "<br>\n",
    "#### Okay let's look at the data\n",
    "First, look at the data to see if it needs cleaning:"
   ]
  },
  {
   "cell_type": "code",
   "execution_count": null,
   "metadata": {
    "collapsed": false
   },
   "outputs": [],
   "source": [
    "base::table(recipes$country) #frequency table"
   ]
  },
  {
   "cell_type": "markdown",
   "metadata": {},
   "source": [
    "#### Let's sort the table: Which countries have the most number of recipes in this dataset?"
   ]
  },
  {
   "cell_type": "code",
   "execution_count": null,
   "metadata": {
    "collapsed": false
   },
   "outputs": [],
   "source": [
    "t <- base::table(recipes$country)  # notice any data quality problems?\n",
    "sort(t, decreasing = T)"
   ]
  },
  {
   "cell_type": "markdown",
   "metadata": {},
   "source": [
    "<br> "
   ]
  },
  {
   "cell_type": "markdown",
   "metadata": {},
   "source": [
    "### Problem: Inconsistent country names (by case and by name)\n",
    "\n",
    "**Goals:**\n",
    "- convert all country names to _lowercase_\n",
    "- make country names consistent\n",
    "- convert all ingredient columns into factors (for classification)"
   ]
  },
  {
   "cell_type": "markdown",
   "metadata": {},
   "source": [
    "Make all the country names **lowercase**:"
   ]
  },
  {
   "cell_type": "code",
   "execution_count": null,
   "metadata": {
    "collapsed": true
   },
   "outputs": [],
   "source": [
    "#Run this\n",
    "recipes$country <- tolower( as.character(recipes$country) ) "
   ]
  },
  {
   "cell_type": "markdown",
   "metadata": {},
   "source": [
    "Make the country names **consistent**:"
   ]
  },
  {
   "cell_type": "code",
   "execution_count": null,
   "metadata": {
    "collapsed": false
   },
   "outputs": [],
   "source": [
    "#Run this\n",
    "recipes$country[recipes$country == \"china\"] <- \"chinese\"\n",
    "recipes$country[recipes$country == \"france\"] <- \"french\"\n",
    "recipes$country[recipes$country == \"germany\"] <- \"german\"\n",
    "recipes$country[recipes$country == \"india\"] <- \"indian\"\n",
    "recipes$country[recipes$country == \"israel\"] <- \"jewish\"\n",
    "recipes$country[recipes$country == \"italy\"] <- \"italian\"\n",
    "recipes$country[recipes$country == \"japan\"] <- \"japanese\"\n",
    "recipes$country[recipes$country == \"korea\"] <- \"korean\"\n",
    "recipes$country[recipes$country == \"mexico\"] <- \"mexican\"\n",
    "recipes$country[recipes$country == \"scandinavia\"] <- \"scandinavian\"\n",
    "recipes$country[recipes$country == \"thailand\"] <- \"thai\"\n",
    "recipes$country[recipes$country == \"vietnam\"] <- \"vietnamese\""
   ]
  },
  {
   "cell_type": "markdown",
   "metadata": {},
   "source": [
    "### Problem: Some countries have very few recipes\n",
    "\n",
    "Remove data for countries with <50 recipes:"
   ]
  },
  {
   "cell_type": "code",
   "execution_count": null,
   "metadata": {
    "collapsed": false
   },
   "outputs": [],
   "source": [
    "t <- sort(base::table(recipes$country), decreasing = T)"
   ]
  },
  {
   "cell_type": "code",
   "execution_count": null,
   "metadata": {
    "collapsed": false
   },
   "outputs": [],
   "source": [
    "filter_list <- names( t[ t >= 50 ] )\n",
    "\n",
    "before <- nrow(recipes) #number of rows of original df\n",
    "\n",
    "recipes <- recipes[recipes$country %in% filter_list, ]\n",
    "\n",
    "after <- nrow(recipes)\n",
    "\n",
    "print(paste(before - after, \"rows removed.\"))\n",
    "\n",
    "recipes$country <- as.factor(as.character(recipes$country))\n",
    "\n",
    "sort(base::table(recipes$country), decreasing = T)"
   ]
  },
  {
   "cell_type": "markdown",
   "metadata": {},
   "source": [
    "#### Convert all of the columns into factors (to run the classification model later)"
   ]
  },
  {
   "cell_type": "code",
   "execution_count": null,
   "metadata": {
    "collapsed": false
   },
   "outputs": [],
   "source": [
    "#Run this\n",
    "recipes[,names(recipes)] <- lapply(recipes[,names(recipes)] , as.factor)"
   ]
  },
  {
   "cell_type": "markdown",
   "metadata": {},
   "source": [
    "### Check the data:\n",
    "\n",
    "**YOUR TURN:**\n",
    "- check the **structure** of your data\n",
    "- to do so, use the following code on **`recipes`**:\n",
    "> `str(recipes)`"
   ]
  },
  {
   "cell_type": "code",
   "execution_count": null,
   "metadata": {
    "collapsed": false
   },
   "outputs": [],
   "source": [
    "### TYPE YOUR CODE BELOW then press Shift+Enter to run it ###\n",
    "\n",
    "\n"
   ]
  },
  {
   "cell_type": "markdown",
   "metadata": {},
   "source": [
    "## Can we tell that some food is Japanese if it contains rice _and_ soy sauce _and_ wasabi _and_ seaweed?"
   ]
  },
  {
   "cell_type": "code",
   "execution_count": null,
   "metadata": {
    "collapsed": false,
    "scrolled": true
   },
   "outputs": [],
   "source": [
    "checkjapan <- recipes[recipes$rice == \"Yes\" &\n",
    "                  recipes$soy_sauce == \"Yes\" &\n",
    "                  recipes$wasabi == \"Yes\" &\n",
    "                  recipes$seaweed == \"Yes\",]\n",
    "checkjapan"
   ]
  },
  {
   "cell_type": "markdown",
   "metadata": {},
   "source": [
    "<br> \n",
    "### Q: Which ingredients are most common? Which are the least-used ingredients?"
   ]
  },
  {
   "cell_type": "markdown",
   "metadata": {},
   "source": [
    "**Goals:**\n",
    "- count the ingredients across all recipes\n",
    "\n",
    "Go ahead and run the cell below:"
   ]
  },
  {
   "cell_type": "code",
   "execution_count": null,
   "metadata": {
    "collapsed": false
   },
   "outputs": [],
   "source": [
    "# Run this\n",
    "\n",
    "## Sum the row count when the value of the row in a column is equal to \"Yes\" (value of 2)\n",
    "ingred <- unlist(\n",
    "            lapply( recipes[, names(recipes)], function(x) sum(as.integer(x) == 2))\n",
    "            )\n",
    "\n",
    "## Transpose the dataframe so that each row is an ingredient\n",
    "ingred <- as.data.frame( t( as.data.frame(ingred) ))\n",
    "                \n",
    "ing_df <- data.frame(\"ingredient\" = names(ingred), \n",
    "                     \"count\" = as.numeric(ingred[1,])\n",
    "                    )[-1,]"
   ]
  },
  {
   "cell_type": "markdown",
   "metadata": {},
   "source": [
    "Now we have a dataframe of ingredients and their total counts across all recipes. This dataframe needs to be **sorted**.\n"
   ]
  },
  {
   "cell_type": "markdown",
   "metadata": {},
   "source": [
    "**Which ingredients are most popular?**"
   ]
  },
  {
   "cell_type": "code",
   "execution_count": null,
   "metadata": {
    "collapsed": false
   },
   "outputs": [],
   "source": [
    "# Run this to sort the df\n",
    "ing_df_sort <- ing_df[order(ing_df$count, decreasing = TRUE),]\n",
    "rownames(ing_df_sort) <- 1:nrow(ing_df_sort)\n",
    "ing_df_sort"
   ]
  },
  {
   "cell_type": "markdown",
   "metadata": {},
   "source": [
    "Note that there is a problem with the above table. Did you notice? It's because the ingredient counts are across all the recipes -- but most of the recipes are American! This means that the data is biased towards American ingredients."
   ]
  },
  {
   "cell_type": "markdown",
   "metadata": {},
   "source": [
    "#### But our list was across _all_ recipes. What about the ingredients used per country?"
   ]
  },
  {
   "cell_type": "markdown",
   "metadata": {},
   "source": [
    "<hr>"
   ]
  },
  {
   "cell_type": "markdown",
   "metadata": {},
   "source": [
    "### Q: How does the distribution of ingredients differ between countries?\n",
    "\n",
    "What is the ingredient \"profile\" of each country?  \n",
    "- What ingredients do Chinese people typically use?  \n",
    "- What _is_ \"Canadian food\" anyway?  \n",
    "\n",
    "**Goals:**\n",
    "- Find counts of ingredients by country, normalized by the number of recipes in that country\n",
    "    - have one row for each country, one column for each ingredient\n",
    "    - for each country, for each ingredient, show percentage of recipes (in that country) that contains that ingredient\n",
    "    - make it into a dataframe\n",
    "- Find top-used ingredients by country\n",
    "\n",
    "Go ahead and run the cell below."
   ]
  },
  {
   "cell_type": "code",
   "execution_count": null,
   "metadata": {
    "collapsed": false,
    "scrolled": true
   },
   "outputs": [],
   "source": [
    "by_country_norm <- aggregate(recipes, \n",
    "                        by = list(recipes$country), \n",
    "                        FUN = function(x) round(sum(as.integer(x) == 2)/\n",
    "                                                length(as.integer(x)),4))\n",
    "#Remove the unnecessary column \"country\"\n",
    "by_country_norm <- by_country_norm[,-2]\n",
    "\n",
    "#Rename the first column into \"country\"\n",
    "names(by_country_norm)[1] <- \"country\""
   ]
  },
  {
   "cell_type": "markdown",
   "metadata": {},
   "source": [
    "We have just created a dataframe where each row is an ingredient, each column is a country, and the row values contain the presence of that ingredient (as a ratio) across the recipes belonging to that country.\n",
    "\n",
    "Let's take a look at the dataframe.\n",
    "\n",
    "**YOUR TURN!**\n",
    "- use **`head(df)`** to show the first 6 rows of a dataframe `df`\n",
    "- dataframe: `by_country_norm`\n",
    "\n",
    "_E.g., \"almond\" is present across 15.65% of all of the \"african\" recipes_"
   ]
  },
  {
   "cell_type": "markdown",
   "metadata": {
    "collapsed": false
   },
   "source": [
    "#### TYPE YOUR CODE BELOW ###\n",
    "> head(by_country_norm)"
   ]
  },
  {
   "cell_type": "code",
   "execution_count": null,
   "metadata": {
    "collapsed": false
   },
   "outputs": [],
   "source": [
    "## YOUR CODE HERE\n",
    "\n"
   ]
  },
  {
   "cell_type": "markdown",
   "metadata": {},
   "source": [
    "### What is \"Canadian food\"?\n",
    "> `region <- \"canada\"`  \n",
    "> `regiondata <- by_country_norm[by_country_norm$country == region,]`  \n",
    "> `t(sort(regiondata, decreasing = TRUE))`"
   ]
  },
  {
   "cell_type": "code",
   "execution_count": null,
   "metadata": {
    "collapsed": false
   },
   "outputs": [],
   "source": [
    "region <- \"canada\" #select a country\n",
    "regiondata <- by_country_norm[by_country_norm$country == region,]\n",
    "t(sort(regiondata, decreasing = TRUE))\n"
   ]
  },
  {
   "cell_type": "markdown",
   "metadata": {},
   "source": [
    "#### Challenge: \n",
    "Come up with a way to visualize this data in an interesting way. Tweet us [@bigdatau](https://twitter.com/intent/tweet?ref_src=twsrc%5Etfw&amp;text=%23rstats%20%23datascience%20%40BigDataU)!"
   ]
  },
  {
   "cell_type": "markdown",
   "metadata": {},
   "source": [
    "### Q: What are the top three most popular ingredients in each country?\n",
    "\n",
    "**Goals:**\n",
    "- for each country, return the top-5 most prevalent ingredients"
   ]
  },
  {
   "cell_type": "code",
   "execution_count": null,
   "metadata": {
    "collapsed": false
   },
   "outputs": [],
   "source": [
    "for(nation in by_country_norm$country){\n",
    "    x <- sort(by_country_norm[by_country_norm$country == nation,][-1], decreasing = TRUE)\n",
    "    cat(c(toupper(nation)))\n",
    "    cat(\"\\n\")\n",
    "    cat(paste0(names(x)[2:5], \" (\", round(x[2:5]*100,0), \"%) \"))\n",
    "    cat(\"\\n\")\n",
    "    cat(\"\\n\")\n",
    "}"
   ]
  },
  {
   "cell_type": "markdown",
   "metadata": {},
   "source": [
    "<hr>"
   ]
  },
  {
   "cell_type": "markdown",
   "metadata": {},
   "source": [
    "<h2 align = center>Which cuisines are most similar to each other?</h2>\n"
   ]
  },
  {
   "cell_type": "markdown",
   "metadata": {},
   "source": [
    "Set number of clusters:"
   ]
  },
  {
   "cell_type": "code",
   "execution_count": 1,
   "metadata": {
    "collapsed": true
   },
   "outputs": [],
   "source": [
    "n_cluster = 9 #you can change this value (e.g., to 3 clusters)"
   ]
  },
  {
   "cell_type": "markdown",
   "metadata": {},
   "source": [
    "Run k-means clustering:"
   ]
  },
  {
   "cell_type": "code",
   "execution_count": null,
   "metadata": {
    "collapsed": true
   },
   "outputs": [],
   "source": [
    "df_cluster <- by_country_norm\n",
    "k <- kmeans(df_cluster[,-1], n_cluster)\n",
    "df_cluster$cluster <- k$cluster"
   ]
  },
  {
   "cell_type": "markdown",
   "metadata": {},
   "source": [
    "Print results:"
   ]
  },
  {
   "cell_type": "code",
   "execution_count": null,
   "metadata": {
    "collapsed": false,
    "scrolled": true
   },
   "outputs": [],
   "source": [
    "for(i in seq( 1, n_cluster )){\n",
    "    i <- as.character(i)\n",
    "    cat(paste0(\"[Cluster \", i, \"]----------------------------------------------------------\"))\n",
    "    cat(\"\\n\")\n",
    "        \n",
    "    print(paste0(as.character(df_cluster[df_cluster$cluster == i,]$country)))\n",
    "    cat(\"\\n\")\n",
    "    }"
   ]
  },
  {
   "cell_type": "markdown",
   "metadata": {},
   "source": [
    "<hr>\n",
    "**References**  \n",
    "Recipes dataset adapted from: \n",
    "- [Ahn, Yong-Yeol, et al. \"Flavor network and the principles of food pairing.\" Scientific reports 1 (2011).](http://yongyeol.com/papers/ahn-flavornet-2011.pdf)\n",
    "- ^ Dataset on ingredient-compounds also available"
   ]
  }
 ],
 "metadata": {
  "kernelspec": {
   "display_name": "R",
   "language": "",
   "name": "ir"
  },
  "language_info": {
   "codemirror_mode": "r",
   "file_extension": ".r",
   "mimetype": "text/x-r-source",
   "name": "R",
   "pygments_lexer": "r"
  },
  "widgets": {
   "state": {},
   "version": "1.1.2"
  }
 },
 "nbformat": 4,
 "nbformat_minor": 0
}
